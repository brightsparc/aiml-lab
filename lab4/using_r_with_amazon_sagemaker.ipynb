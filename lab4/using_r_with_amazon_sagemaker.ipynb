{
 "cells": [
  {
   "cell_type": "markdown",
   "metadata": {},
   "source": [
    "<h1>Using R with Amazon SageMaker</h1>\n",
    "\n",
    "This sample Notebook describes how to train, deploy, and retrieve predictions from a machine learning (ML) model using [Amazon SageMaker](https://aws.amazon.com/sagemaker/) and [R](https://www.r-project.org/). The model predicts abalone age as measured by the number of rings in the shell. The [reticulate](https://rstudio.github.io/reticulate/) package will be used as an R interface to [Amazon SageMaker Python SDK](https://sagemaker.readthedocs.io/en/latest/index.html) to make API calls to Amazon SageMaker. The `reticulate` package translates between R and Python objects, and Amazon SageMaker provides a serverless data science environment to train and deploy ML models at scale.\n"
   ]
  },
  {
   "cell_type": "markdown",
   "metadata": {},
   "source": [
    "<h3>Reticulating the Amazon SageMaker Python SDK</h3>\n",
    "\n",
    "First, load the `reticulate` library and import the `sagemaker` Python module. Once the module is loaded, use the `$` notation in R instead of the `.` notation in Python to use available classes. "
   ]
  },
  {
   "cell_type": "code",
   "execution_count": 1,
   "metadata": {},
   "outputs": [],
   "source": [
    "library(reticulate)\n",
    "sagemaker <- import('sagemaker')"
   ]
  },
  {
   "cell_type": "markdown",
   "metadata": {},
   "source": [
    "<h3>Creating and accessing the data storage</h3>\n",
    "\n",
    "The `Session` class provides operations for working with the following [boto3](https://boto3.amazonaws.com/v1/documentation/api/latest/index.html) resources with Amazon SageMaker:\n",
    "\n",
    "* [S3](https://boto3.readthedocs.io/en/latest/reference/services/s3.html)\n",
    "* [SageMaker](https://boto3.readthedocs.io/en/latest/reference/services/sagemaker.html)\n",
    "* [SageMakerRuntime](https://boto3.readthedocs.io/en/latest/reference/services/sagemaker-runtime.html)\n",
    "\n",
    "Let's create an [Amazon Simple Storage Service](https://aws.amazon.com/s3/) bucket for your data. "
   ]
  },
  {
   "cell_type": "code",
   "execution_count": 3,
   "metadata": {},
   "outputs": [],
   "source": [
    "session <- sagemaker$Session()\n",
    "bucket <- session$default_bucket()"
   ]
  },
  {
   "cell_type": "markdown",
   "metadata": {},
   "source": [
    "**Note** - The `default_bucket` function creates a unique Amazon S3 bucket with the following name: \n",
    "\n",
    "`sagemaker-<aws-region-name>-<aws account number>`\n",
    "\n",
    "Specify the IAM role's [ARN](https://docs.aws.amazon.com/general/latest/gr/aws-arns-and-namespaces.html) to allow Amazon SageMaker to access the Amazon S3 bucket. You can use the same IAM role used to create this Notebook:"
   ]
  },
  {
   "cell_type": "code",
   "execution_count": 4,
   "metadata": {},
   "outputs": [],
   "source": [
    "role_arn <- sagemaker$get_execution_role()"
   ]
  },
  {
   "cell_type": "markdown",
   "metadata": {},
   "source": [
    "<h3>Downloading and processing the dataset</h3>\n",
    "\n",
    "The model uses the [abalone dataset](https://archive.ics.uci.edu/ml/datasets/abalone) from the [UCI Machine Learning Repository](https://archive.ics.uci.edu/ml/index.php). First, download the data and start the [exploratory data analysis](https://en.wikipedia.org/wiki/Exploratory_data_analysis). Use tidyverse packages to read the data, plot the data, and transform the data into ML format for Amazon SageMaker:"
   ]
  },
  {
   "cell_type": "code",
   "execution_count": 5,
   "metadata": {},
   "outputs": [
    {
     "name": "stderr",
     "output_type": "stream",
     "text": [
      "Parsed with column specification:\n",
      "cols(\n",
      "  X1 = col_character(),\n",
      "  X2 = col_double(),\n",
      "  X3 = col_double(),\n",
      "  X4 = col_double(),\n",
      "  X5 = col_double(),\n",
      "  X6 = col_double(),\n",
      "  X7 = col_double(),\n",
      "  X8 = col_double(),\n",
      "  X9 = col_double()\n",
      ")\n"
     ]
    },
    {
     "data": {
      "text/html": [
       "<table>\n",
       "<thead><tr><th scope=col>sex</th><th scope=col>length</th><th scope=col>diameter</th><th scope=col>height</th><th scope=col>whole_weight</th><th scope=col>shucked_weight</th><th scope=col>viscera_weight</th><th scope=col>shell_weight</th><th scope=col>rings</th></tr></thead>\n",
       "<tbody>\n",
       "\t<tr><td>M     </td><td>0.455 </td><td>0.365 </td><td>0.095 </td><td>0.5140</td><td>0.2245</td><td>0.1010</td><td>0.150 </td><td>15    </td></tr>\n",
       "\t<tr><td>M     </td><td>0.350 </td><td>0.265 </td><td>0.090 </td><td>0.2255</td><td>0.0995</td><td>0.0485</td><td>0.070 </td><td> 7    </td></tr>\n",
       "\t<tr><td>F     </td><td>0.530 </td><td>0.420 </td><td>0.135 </td><td>0.6770</td><td>0.2565</td><td>0.1415</td><td>0.210 </td><td> 9    </td></tr>\n",
       "\t<tr><td>M     </td><td>0.440 </td><td>0.365 </td><td>0.125 </td><td>0.5160</td><td>0.2155</td><td>0.1140</td><td>0.155 </td><td>10    </td></tr>\n",
       "\t<tr><td>I     </td><td>0.330 </td><td>0.255 </td><td>0.080 </td><td>0.2050</td><td>0.0895</td><td>0.0395</td><td>0.055 </td><td> 7    </td></tr>\n",
       "\t<tr><td>I     </td><td>0.425 </td><td>0.300 </td><td>0.095 </td><td>0.3515</td><td>0.1410</td><td>0.0775</td><td>0.120 </td><td> 8    </td></tr>\n",
       "</tbody>\n",
       "</table>\n"
      ],
      "text/latex": [
       "\\begin{tabular}{r|lllllllll}\n",
       " sex & length & diameter & height & whole\\_weight & shucked\\_weight & viscera\\_weight & shell\\_weight & rings\\\\\n",
       "\\hline\n",
       "\t M      & 0.455  & 0.365  & 0.095  & 0.5140 & 0.2245 & 0.1010 & 0.150  & 15    \\\\\n",
       "\t M      & 0.350  & 0.265  & 0.090  & 0.2255 & 0.0995 & 0.0485 & 0.070  &  7    \\\\\n",
       "\t F      & 0.530  & 0.420  & 0.135  & 0.6770 & 0.2565 & 0.1415 & 0.210  &  9    \\\\\n",
       "\t M      & 0.440  & 0.365  & 0.125  & 0.5160 & 0.2155 & 0.1140 & 0.155  & 10    \\\\\n",
       "\t I      & 0.330  & 0.255  & 0.080  & 0.2050 & 0.0895 & 0.0395 & 0.055  &  7    \\\\\n",
       "\t I      & 0.425  & 0.300  & 0.095  & 0.3515 & 0.1410 & 0.0775 & 0.120  &  8    \\\\\n",
       "\\end{tabular}\n"
      ],
      "text/markdown": [
       "\n",
       "| sex | length | diameter | height | whole_weight | shucked_weight | viscera_weight | shell_weight | rings |\n",
       "|---|---|---|---|---|---|---|---|---|\n",
       "| M      | 0.455  | 0.365  | 0.095  | 0.5140 | 0.2245 | 0.1010 | 0.150  | 15     |\n",
       "| M      | 0.350  | 0.265  | 0.090  | 0.2255 | 0.0995 | 0.0485 | 0.070  |  7     |\n",
       "| F      | 0.530  | 0.420  | 0.135  | 0.6770 | 0.2565 | 0.1415 | 0.210  |  9     |\n",
       "| M      | 0.440  | 0.365  | 0.125  | 0.5160 | 0.2155 | 0.1140 | 0.155  | 10     |\n",
       "| I      | 0.330  | 0.255  | 0.080  | 0.2050 | 0.0895 | 0.0395 | 0.055  |  7     |\n",
       "| I      | 0.425  | 0.300  | 0.095  | 0.3515 | 0.1410 | 0.0775 | 0.120  |  8     |\n",
       "\n"
      ],
      "text/plain": [
       "  sex length diameter height whole_weight shucked_weight viscera_weight\n",
       "1 M   0.455  0.365    0.095  0.5140       0.2245         0.1010        \n",
       "2 M   0.350  0.265    0.090  0.2255       0.0995         0.0485        \n",
       "3 F   0.530  0.420    0.135  0.6770       0.2565         0.1415        \n",
       "4 M   0.440  0.365    0.125  0.5160       0.2155         0.1140        \n",
       "5 I   0.330  0.255    0.080  0.2050       0.0895         0.0395        \n",
       "6 I   0.425  0.300    0.095  0.3515       0.1410         0.0775        \n",
       "  shell_weight rings\n",
       "1 0.150        15   \n",
       "2 0.070         7   \n",
       "3 0.210         9   \n",
       "4 0.155        10   \n",
       "5 0.055         7   \n",
       "6 0.120         8   "
      ]
     },
     "metadata": {},
     "output_type": "display_data"
    }
   ],
   "source": [
    "library(readr)\n",
    "data_file <- 'https://archive.ics.uci.edu/ml/machine-learning-databases/abalone/abalone.data'\n",
    "abalone <- read_csv(file = data_file, col_names = FALSE)\n",
    "names(abalone) <- c('sex', 'length', 'diameter', 'height', 'whole_weight', 'shucked_weight', 'viscera_weight', 'shell_weight', 'rings')\n",
    "head(abalone)"
   ]
  },
  {
   "cell_type": "markdown",
   "metadata": {},
   "source": [
    "The output above shows that `sex` is a factor data type but is currently a character data type (F is Female, M is male, and I is infant). Change `sex` to a factor and view the statistical summary of the dataset:"
   ]
  },
  {
   "cell_type": "code",
   "execution_count": 6,
   "metadata": {},
   "outputs": [
    {
     "data": {
      "text/plain": [
       " sex          length         diameter          height        whole_weight   \n",
       " F:1307   Min.   :0.075   Min.   :0.0550   Min.   :0.0000   Min.   :0.0020  \n",
       " I:1342   1st Qu.:0.450   1st Qu.:0.3500   1st Qu.:0.1150   1st Qu.:0.4415  \n",
       " M:1528   Median :0.545   Median :0.4250   Median :0.1400   Median :0.7995  \n",
       "          Mean   :0.524   Mean   :0.4079   Mean   :0.1395   Mean   :0.8287  \n",
       "          3rd Qu.:0.615   3rd Qu.:0.4800   3rd Qu.:0.1650   3rd Qu.:1.1530  \n",
       "          Max.   :0.815   Max.   :0.6500   Max.   :1.1300   Max.   :2.8255  \n",
       " shucked_weight   viscera_weight    shell_weight        rings       \n",
       " Min.   :0.0010   Min.   :0.0005   Min.   :0.0015   Min.   : 1.000  \n",
       " 1st Qu.:0.1860   1st Qu.:0.0935   1st Qu.:0.1300   1st Qu.: 8.000  \n",
       " Median :0.3360   Median :0.1710   Median :0.2340   Median : 9.000  \n",
       " Mean   :0.3594   Mean   :0.1806   Mean   :0.2388   Mean   : 9.934  \n",
       " 3rd Qu.:0.5020   3rd Qu.:0.2530   3rd Qu.:0.3290   3rd Qu.:11.000  \n",
       " Max.   :1.4880   Max.   :0.7600   Max.   :1.0050   Max.   :29.000  "
      ]
     },
     "metadata": {},
     "output_type": "display_data"
    }
   ],
   "source": [
    "abalone$sex <- as.factor(abalone$sex)\n",
    "summary(abalone)"
   ]
  },
  {
   "cell_type": "markdown",
   "metadata": {},
   "source": [
    "The summary above shows that the minimum value for `height` is 0.\n",
    "\n",
    "Visually explore which abalones have height equal to 0 by plotting the relationship between `rings` and `height` for each value of `sex`:"
   ]
  },
  {
   "cell_type": "code",
   "execution_count": 7,
   "metadata": {},
   "outputs": [
    {
     "name": "stderr",
     "output_type": "stream",
     "text": [
      "Registered S3 methods overwritten by 'ggplot2':\n",
      "  method         from \n",
      "  [.quosures     rlang\n",
      "  c.quosures     rlang\n",
      "  print.quosures rlang\n"
     ]
    },
    {
     "data": {
      "image/png": "[encoded data removed]",
      "text/plain": [
       "plot without title"
      ]
     },
     "metadata": {},
     "output_type": "display_data"
    }
   ],
   "source": [
    "library(ggplot2)\n",
    "ggplot(abalone, aes(x = height, y = rings, color = sex)) + geom_point() + geom_jitter()"
   ]
  },
  {
   "cell_type": "markdown",
   "metadata": {},
   "source": [
    "The plot shows multiple outliers: two infant abalones with a height of 0 and a few female and male abalones with greater heights than the rest. Let's filter out the two infant abalones with a height of 0."
   ]
  },
  {
   "cell_type": "code",
   "execution_count": 8,
   "metadata": {},
   "outputs": [
    {
     "name": "stderr",
     "output_type": "stream",
     "text": [
      "\n",
      "Attaching package: ‘dplyr’\n",
      "\n",
      "The following objects are masked from ‘package:stats’:\n",
      "\n",
      "    filter, lag\n",
      "\n",
      "The following objects are masked from ‘package:base’:\n",
      "\n",
      "    intersect, setdiff, setequal, union\n",
      "\n"
     ]
    }
   ],
   "source": [
    "library(dplyr)\n",
    "abalone <- abalone %>%\n",
    "  filter(height != 0)"
   ]
  },
  {
   "cell_type": "markdown",
   "metadata": {},
   "source": [
    "<h3>Preparing the dataset for model training</h3>\n",
    "\n",
    "The model needs three datasets: one each for training, testing, and validation. First, convert `sex` into a [dummy variable](https://en.wikipedia.org/wiki/Dummy_variable_(statistics)) and move the target, `rings`, to the first column. Amazon SageMaker algorithm require the target to be in the first column of the dataset."
   ]
  },
  {
   "cell_type": "code",
   "execution_count": 9,
   "metadata": {},
   "outputs": [
    {
     "data": {
      "text/html": [
       "<table>\n",
       "<thead><tr><th scope=col>rings</th><th scope=col>female</th><th scope=col>male</th><th scope=col>infant</th><th scope=col>length</th><th scope=col>diameter</th><th scope=col>height</th><th scope=col>whole_weight</th><th scope=col>shucked_weight</th><th scope=col>viscera_weight</th><th scope=col>shell_weight</th></tr></thead>\n",
       "<tbody>\n",
       "\t<tr><td>15    </td><td>0     </td><td>1     </td><td>0     </td><td>0.455 </td><td>0.365 </td><td>0.095 </td><td>0.5140</td><td>0.2245</td><td>0.1010</td><td>0.150 </td></tr>\n",
       "\t<tr><td> 7    </td><td>0     </td><td>1     </td><td>0     </td><td>0.350 </td><td>0.265 </td><td>0.090 </td><td>0.2255</td><td>0.0995</td><td>0.0485</td><td>0.070 </td></tr>\n",
       "\t<tr><td> 9    </td><td>1     </td><td>0     </td><td>0     </td><td>0.530 </td><td>0.420 </td><td>0.135 </td><td>0.6770</td><td>0.2565</td><td>0.1415</td><td>0.210 </td></tr>\n",
       "\t<tr><td>10    </td><td>0     </td><td>1     </td><td>0     </td><td>0.440 </td><td>0.365 </td><td>0.125 </td><td>0.5160</td><td>0.2155</td><td>0.1140</td><td>0.155 </td></tr>\n",
       "\t<tr><td> 7    </td><td>0     </td><td>0     </td><td>1     </td><td>0.330 </td><td>0.255 </td><td>0.080 </td><td>0.2050</td><td>0.0895</td><td>0.0395</td><td>0.055 </td></tr>\n",
       "\t<tr><td> 8    </td><td>0     </td><td>0     </td><td>1     </td><td>0.425 </td><td>0.300 </td><td>0.095 </td><td>0.3515</td><td>0.1410</td><td>0.0775</td><td>0.120 </td></tr>\n",
       "</tbody>\n",
       "</table>\n"
      ],
      "text/latex": [
       "\\begin{tabular}{r|lllllllllll}\n",
       " rings & female & male & infant & length & diameter & height & whole\\_weight & shucked\\_weight & viscera\\_weight & shell\\_weight\\\\\n",
       "\\hline\n",
       "\t 15     & 0      & 1      & 0      & 0.455  & 0.365  & 0.095  & 0.5140 & 0.2245 & 0.1010 & 0.150 \\\\\n",
       "\t  7     & 0      & 1      & 0      & 0.350  & 0.265  & 0.090  & 0.2255 & 0.0995 & 0.0485 & 0.070 \\\\\n",
       "\t  9     & 1      & 0      & 0      & 0.530  & 0.420  & 0.135  & 0.6770 & 0.2565 & 0.1415 & 0.210 \\\\\n",
       "\t 10     & 0      & 1      & 0      & 0.440  & 0.365  & 0.125  & 0.5160 & 0.2155 & 0.1140 & 0.155 \\\\\n",
       "\t  7     & 0      & 0      & 1      & 0.330  & 0.255  & 0.080  & 0.2050 & 0.0895 & 0.0395 & 0.055 \\\\\n",
       "\t  8     & 0      & 0      & 1      & 0.425  & 0.300  & 0.095  & 0.3515 & 0.1410 & 0.0775 & 0.120 \\\\\n",
       "\\end{tabular}\n"
      ],
      "text/markdown": [
       "\n",
       "| rings | female | male | infant | length | diameter | height | whole_weight | shucked_weight | viscera_weight | shell_weight |\n",
       "|---|---|---|---|---|---|---|---|---|---|---|\n",
       "| 15     | 0      | 1      | 0      | 0.455  | 0.365  | 0.095  | 0.5140 | 0.2245 | 0.1010 | 0.150  |\n",
       "|  7     | 0      | 1      | 0      | 0.350  | 0.265  | 0.090  | 0.2255 | 0.0995 | 0.0485 | 0.070  |\n",
       "|  9     | 1      | 0      | 0      | 0.530  | 0.420  | 0.135  | 0.6770 | 0.2565 | 0.1415 | 0.210  |\n",
       "| 10     | 0      | 1      | 0      | 0.440  | 0.365  | 0.125  | 0.5160 | 0.2155 | 0.1140 | 0.155  |\n",
       "|  7     | 0      | 0      | 1      | 0.330  | 0.255  | 0.080  | 0.2050 | 0.0895 | 0.0395 | 0.055  |\n",
       "|  8     | 0      | 0      | 1      | 0.425  | 0.300  | 0.095  | 0.3515 | 0.1410 | 0.0775 | 0.120  |\n",
       "\n"
      ],
      "text/plain": [
       "  rings female male infant length diameter height whole_weight shucked_weight\n",
       "1 15    0      1    0      0.455  0.365    0.095  0.5140       0.2245        \n",
       "2  7    0      1    0      0.350  0.265    0.090  0.2255       0.0995        \n",
       "3  9    1      0    0      0.530  0.420    0.135  0.6770       0.2565        \n",
       "4 10    0      1    0      0.440  0.365    0.125  0.5160       0.2155        \n",
       "5  7    0      0    1      0.330  0.255    0.080  0.2050       0.0895        \n",
       "6  8    0      0    1      0.425  0.300    0.095  0.3515       0.1410        \n",
       "  viscera_weight shell_weight\n",
       "1 0.1010         0.150       \n",
       "2 0.0485         0.070       \n",
       "3 0.1415         0.210       \n",
       "4 0.1140         0.155       \n",
       "5 0.0395         0.055       \n",
       "6 0.0775         0.120       "
      ]
     },
     "metadata": {},
     "output_type": "display_data"
    }
   ],
   "source": [
    "abalone <- abalone %>%\n",
    "  mutate(female = as.integer(ifelse(sex == 'F', 1, 0)),\n",
    "         male = as.integer(ifelse(sex == 'M', 1, 0)),\n",
    "         infant = as.integer(ifelse(sex == 'I', 1, 0))) %>%\n",
    "  select(-sex)\n",
    "abalone <- abalone %>%\n",
    "  select(rings:infant, length:shell_weight)\n",
    "head(abalone)"
   ]
  },
  {
   "cell_type": "markdown",
   "metadata": {},
   "source": [
    "Next, sample 70% of the data for training the ML algorithm. Split the remaining 30% into two halves, one for testing and one for validation:"
   ]
  },
  {
   "cell_type": "code",
   "execution_count": 10,
   "metadata": {},
   "outputs": [
    {
     "name": "stderr",
     "output_type": "stream",
     "text": [
      "Joining, by = c(\"rings\", \"female\", \"male\", \"infant\", \"length\", \"diameter\", \"height\", \"whole_weight\", \"shucked_weight\", \"viscera_weight\", \"shell_weight\")\n",
      "Joining, by = c(\"rings\", \"female\", \"male\", \"infant\", \"length\", \"diameter\", \"height\", \"whole_weight\", \"shucked_weight\", \"viscera_weight\", \"shell_weight\")\n"
     ]
    }
   ],
   "source": [
    "abalone_train <- abalone %>%\n",
    "  sample_frac(size = 0.7)\n",
    "abalone <- anti_join(abalone, abalone_train)\n",
    "abalone_test <- abalone %>%\n",
    "  sample_frac(size = 0.5)\n",
    "abalone_valid <- anti_join(abalone, abalone_test)"
   ]
  },
  {
   "cell_type": "markdown",
   "metadata": {},
   "source": [
    "Upload the training and validation data to Amazon S3 so that you can train the model. First, write the training and validation datasets to the local filesystem in .csv format:"
   ]
  },
  {
   "cell_type": "code",
   "execution_count": 11,
   "metadata": {},
   "outputs": [],
   "source": [
    "write_csv(abalone_train, 'abalone_train.csv', col_names = FALSE)\n",
    "write_csv(abalone_valid, 'abalone_valid.csv', col_names = FALSE)"
   ]
  },
  {
   "cell_type": "markdown",
   "metadata": {},
   "source": [
    "Second, upload the two datasets to the Amazon S3 bucket into the `data` key:"
   ]
  },
  {
   "cell_type": "code",
   "execution_count": 12,
   "metadata": {},
   "outputs": [],
   "source": [
    "s3_train <- session$upload_data(path = 'abalone_train.csv', \n",
    "                                bucket = bucket, \n",
    "                                key_prefix = 'data')\n",
    "s3_valid <- session$upload_data(path = 'abalone_valid.csv', \n",
    "                                bucket = bucket, \n",
    "                                key_prefix = 'data')"
   ]
  },
  {
   "cell_type": "markdown",
   "metadata": {},
   "source": [
    "Finally, define the Amazon S3 input types for the Amazon SageMaker algorithm:"
   ]
  },
  {
   "cell_type": "code",
   "execution_count": 13,
   "metadata": {},
   "outputs": [],
   "source": [
    "s3_train_input <- sagemaker$s3_input(s3_data = s3_train,\n",
    "                                     content_type = 'csv')\n",
    "s3_valid_input <- sagemaker$s3_input(s3_data = s3_valid,\n",
    "                                     content_type = 'csv')"
   ]
  },
  {
   "cell_type": "markdown",
   "metadata": {},
   "source": [
    "<h3>Training the model</h3>\n",
    "\n",
    "Amazon SageMaker algorithm are available via a [Docker](https://www.docker.com/) container. To train an [XGBoost](https://en.wikipedia.org/wiki/Xgboost) model, specify the training containers in [Amazon Elastic Container Registry](https://aws.amazon.com/ecr/) (Amazon ECR) for the AWS Region."
   ]
  },
  {
   "cell_type": "code",
   "execution_count": 14,
   "metadata": {},
   "outputs": [],
   "source": [
    "registry <- sagemaker$amazon$amazon_estimator$registry(session$boto_region_name, algorithm='xgboost')\n",
    "container <- paste(registry, '/xgboost:latest', sep='')"
   ]
  },
  {
   "cell_type": "markdown",
   "metadata": {},
   "source": [
    "Define an Amazon SageMaker [Estimator](http://sagemaker.readthedocs.io/en/latest/estimators.html), which can train any supplied algorithm that has been containerized with Docker. When creating the Estimator, use the following arguments:\n",
    "* **image_name** - The container image to use for training\n",
    "* **role** - The Amazon SageMaker service role\n",
    "* **train_instance_count** - The number of Amazon EC2 instances to use for training\n",
    "* **train_instance_type** - The type of Amazon EC2 instance to use for training\n",
    "* **train_volume_size** - The size in GB of the [Amazon Elastic Block Store](https://aws.amazon.com/ebs/) (Amazon EBS) volume to use for storing input data during training\n",
    "* **train_max_run** - The timeout in seconds for training\n",
    "* **input_mode** - The input mode that the algorithm supports\n",
    "* **output_path** - The Amazon S3 location for saving the training results (model artifacts and output files)\n",
    "* **output_kms_key** - The [AWS Key Management Service](https://aws.amazon.com/kms/) (AWS KMS) key for encrypting the training output\n",
    "* **base_job_name** - The prefix for the name of the training job\n",
    "* **sagemaker_session** - The Session object that manages interactions with Amazon SageMaker API"
   ]
  },
  {
   "cell_type": "code",
   "execution_count": 15,
   "metadata": {},
   "outputs": [],
   "source": [
    "s3_output <- paste0('s3://', bucket, '/output')\n",
    "estimator <- sagemaker$estimator$Estimator(image_name = container,\n",
    "                                           role = role_arn,\n",
    "                                           train_instance_count = 1L,\n",
    "                                           train_instance_type = 'ml.m5.large',\n",
    "                                           train_volume_size = 30L,\n",
    "                                           train_max_run = 3600L,\n",
    "                                           input_mode = 'File',\n",
    "                                           output_path = s3_output,\n",
    "                                           output_kms_key = NULL,\n",
    "                                           base_job_name = NULL,\n",
    "                                           sagemaker_session = NULL)"
   ]
  },
  {
   "cell_type": "markdown",
   "metadata": {},
   "source": [
    "**Note** - The equivalent to `None` in Python is `NULL` in R.\n",
    "\n",
    "Specify the [XGBoost hyperparameters](https://docs.aws.amazon.com/sagemaker/latest/dg/xgboost_hyperparameters.html) and fit the model. Set the number of rounds for training to 100 which is the default value when using the XGBoost library outside of Amazon SageMaker. Also specify the input data and a job name based on the current time stamp:"
   ]
  },
  {
   "cell_type": "code",
   "execution_count": 16,
   "metadata": {},
   "outputs": [],
   "source": [
    "estimator$set_hyperparameters(num_round = 100L)\n",
    "job_name <- paste('sagemaker-train-xgboost', format(Sys.time(), '%H-%M-%S'), sep = '-')\n",
    "input_data <- list('train' = s3_train_input,\n",
    "                   'validation' = s3_valid_input)\n",
    "estimator$fit(inputs = input_data,\n",
    "              job_name = job_name)"
   ]
  },
  {
   "cell_type": "markdown",
   "metadata": {},
   "source": [
    "Once training has finished, Amazon SageMaker copies the model binary (a gzip tarball) to the specified Amazon S3 output location. Get the full Amazon S3 path with this command:"
   ]
  },
  {
   "cell_type": "code",
   "execution_count": 17,
   "metadata": {},
   "outputs": [
    {
     "data": {
      "text/html": [
       "'s3://sagemaker-ap-southeast-2-423079281568/output/sagemaker-train-xgboost-08-42-16/output/model.tar.gz'"
      ],
      "text/latex": [
       "'s3://sagemaker-ap-southeast-2-423079281568/output/sagemaker-train-xgboost-08-42-16/output/model.tar.gz'"
      ],
      "text/markdown": [
       "'s3://sagemaker-ap-southeast-2-423079281568/output/sagemaker-train-xgboost-08-42-16/output/model.tar.gz'"
      ],
      "text/plain": [
       "[1] \"s3://sagemaker-ap-southeast-2-423079281568/output/sagemaker-train-xgboost-08-42-16/output/model.tar.gz\""
      ]
     },
     "metadata": {},
     "output_type": "display_data"
    }
   ],
   "source": [
    "estimator$model_data"
   ]
  },
  {
   "cell_type": "markdown",
   "metadata": {},
   "source": [
    "<h3>Deploying the model</h3>\n",
    "\n",
    "Amazon SageMaker lets you [deploy your model](https://docs.aws.amazon.com/sagemaker/latest/dg/how-it-works-hosting.html) by providing an endpoint that consumers can invoke by a secure and simple API call using an HTTPS request. Let's deploy our trained model to a `ml.t2.medium` instance."
   ]
  },
  {
   "cell_type": "code",
   "execution_count": 18,
   "metadata": {},
   "outputs": [],
   "source": [
    "model_endpoint <- estimator$deploy(initial_instance_count = 1L,\n",
    "                                   instance_type = 'ml.t2.medium')"
   ]
  },
  {
   "cell_type": "markdown",
   "metadata": {},
   "source": [
    "<h3>Generating predictions with the model</h3>\n",
    "\n",
    "Use the test data to generate predictions. Pass comma-separated text to be serialized into JSON format by specifying `text/csv` and `csv_serializer` for the endpoint:"
   ]
  },
  {
   "cell_type": "code",
   "execution_count": 19,
   "metadata": {},
   "outputs": [],
   "source": [
    "model_endpoint$content_type <- 'text/csv'\n",
    "model_endpoint$serializer <- sagemaker$predictor$csv_serializer"
   ]
  },
  {
   "cell_type": "markdown",
   "metadata": {},
   "source": [
    "Remove the target column and convert the first 500 observations to a matrix with no column names:"
   ]
  },
  {
   "cell_type": "code",
   "execution_count": 20,
   "metadata": {},
   "outputs": [],
   "source": [
    "abalone_test <- abalone_test[-1]\n",
    "num_predict_rows <- 500\n",
    "test_sample <- as.matrix(abalone_test[1:num_predict_rows, ])\n",
    "dimnames(test_sample)[[2]] <- NULL"
   ]
  },
  {
   "cell_type": "markdown",
   "metadata": {},
   "source": [
    "**Note** - 500 observations was chosen because it doesn't exceed the endpoint limitation.\n",
    "\n",
    "Generate predictions from the endpoint and convert the returned comma-separated string:"
   ]
  },
  {
   "cell_type": "code",
   "execution_count": 21,
   "metadata": {},
   "outputs": [],
   "source": [
    "library(stringr)\n",
    "predictions <- model_endpoint$predict(test_sample)\n",
    "predictions <- str_split(predictions, pattern = ',', simplify = TRUE)\n",
    "predictions <- as.numeric(predictions)"
   ]
  },
  {
   "cell_type": "markdown",
   "metadata": {},
   "source": [
    "Column-bind the predicted rings to the test data:"
   ]
  },
  {
   "cell_type": "code",
   "execution_count": 22,
   "metadata": {},
   "outputs": [
    {
     "data": {
      "text/html": [
       "<table>\n",
       "<thead><tr><th scope=col>predicted_rings</th><th scope=col>female</th><th scope=col>male</th><th scope=col>infant</th><th scope=col>length</th><th scope=col>diameter</th><th scope=col>height</th><th scope=col>whole_weight</th><th scope=col>shucked_weight</th><th scope=col>viscera_weight</th><th scope=col>shell_weight</th></tr></thead>\n",
       "<tbody>\n",
       "\t<tr><td>10.545817</td><td>0        </td><td>1        </td><td>0        </td><td>0.470    </td><td>0.360    </td><td>0.135    </td><td>0.5010   </td><td>0.1665   </td><td>0.1150   </td><td>0.1650   </td></tr>\n",
       "\t<tr><td>18.334177</td><td>0        </td><td>1        </td><td>0        </td><td>0.680    </td><td>0.540    </td><td>0.195    </td><td>1.7825   </td><td>0.5565   </td><td>0.3235   </td><td>0.4285   </td></tr>\n",
       "\t<tr><td>11.220117</td><td>1        </td><td>0        </td><td>0        </td><td>0.635    </td><td>0.510    </td><td>0.170    </td><td>1.2235   </td><td>0.5320   </td><td>0.2710   </td><td>0.3540   </td></tr>\n",
       "\t<tr><td> 8.885004</td><td>0        </td><td>0        </td><td>1        </td><td>0.570    </td><td>0.440    </td><td>0.150    </td><td>0.7550   </td><td>0.3425   </td><td>0.1600   </td><td>0.2240   </td></tr>\n",
       "\t<tr><td>12.404117</td><td>0        </td><td>1        </td><td>0        </td><td>0.685    </td><td>0.535    </td><td>0.155    </td><td>1.3845   </td><td>0.6615   </td><td>0.2145   </td><td>0.4075   </td></tr>\n",
       "\t<tr><td> 8.718064</td><td>0        </td><td>1        </td><td>0        </td><td>0.550    </td><td>0.430    </td><td>0.150    </td><td>0.8745   </td><td>0.4130   </td><td>0.1905   </td><td>0.2480   </td></tr>\n",
       "</tbody>\n",
       "</table>\n"
      ],
      "text/latex": [
       "\\begin{tabular}{r|lllllllllll}\n",
       " predicted\\_rings & female & male & infant & length & diameter & height & whole\\_weight & shucked\\_weight & viscera\\_weight & shell\\_weight\\\\\n",
       "\\hline\n",
       "\t 10.545817 & 0         & 1         & 0         & 0.470     & 0.360     & 0.135     & 0.5010    & 0.1665    & 0.1150    & 0.1650   \\\\\n",
       "\t 18.334177 & 0         & 1         & 0         & 0.680     & 0.540     & 0.195     & 1.7825    & 0.5565    & 0.3235    & 0.4285   \\\\\n",
       "\t 11.220117 & 1         & 0         & 0         & 0.635     & 0.510     & 0.170     & 1.2235    & 0.5320    & 0.2710    & 0.3540   \\\\\n",
       "\t  8.885004 & 0         & 0         & 1         & 0.570     & 0.440     & 0.150     & 0.7550    & 0.3425    & 0.1600    & 0.2240   \\\\\n",
       "\t 12.404117 & 0         & 1         & 0         & 0.685     & 0.535     & 0.155     & 1.3845    & 0.6615    & 0.2145    & 0.4075   \\\\\n",
       "\t  8.718064 & 0         & 1         & 0         & 0.550     & 0.430     & 0.150     & 0.8745    & 0.4130    & 0.1905    & 0.2480   \\\\\n",
       "\\end{tabular}\n"
      ],
      "text/markdown": [
       "\n",
       "| predicted_rings | female | male | infant | length | diameter | height | whole_weight | shucked_weight | viscera_weight | shell_weight |\n",
       "|---|---|---|---|---|---|---|---|---|---|---|\n",
       "| 10.545817 | 0         | 1         | 0         | 0.470     | 0.360     | 0.135     | 0.5010    | 0.1665    | 0.1150    | 0.1650    |\n",
       "| 18.334177 | 0         | 1         | 0         | 0.680     | 0.540     | 0.195     | 1.7825    | 0.5565    | 0.3235    | 0.4285    |\n",
       "| 11.220117 | 1         | 0         | 0         | 0.635     | 0.510     | 0.170     | 1.2235    | 0.5320    | 0.2710    | 0.3540    |\n",
       "|  8.885004 | 0         | 0         | 1         | 0.570     | 0.440     | 0.150     | 0.7550    | 0.3425    | 0.1600    | 0.2240    |\n",
       "| 12.404117 | 0         | 1         | 0         | 0.685     | 0.535     | 0.155     | 1.3845    | 0.6615    | 0.2145    | 0.4075    |\n",
       "|  8.718064 | 0         | 1         | 0         | 0.550     | 0.430     | 0.150     | 0.8745    | 0.4130    | 0.1905    | 0.2480    |\n",
       "\n"
      ],
      "text/plain": [
       "  predicted_rings female male infant length diameter height whole_weight\n",
       "1 10.545817       0      1    0      0.470  0.360    0.135  0.5010      \n",
       "2 18.334177       0      1    0      0.680  0.540    0.195  1.7825      \n",
       "3 11.220117       1      0    0      0.635  0.510    0.170  1.2235      \n",
       "4  8.885004       0      0    1      0.570  0.440    0.150  0.7550      \n",
       "5 12.404117       0      1    0      0.685  0.535    0.155  1.3845      \n",
       "6  8.718064       0      1    0      0.550  0.430    0.150  0.8745      \n",
       "  shucked_weight viscera_weight shell_weight\n",
       "1 0.1665         0.1150         0.1650      \n",
       "2 0.5565         0.3235         0.4285      \n",
       "3 0.5320         0.2710         0.3540      \n",
       "4 0.3425         0.1600         0.2240      \n",
       "5 0.6615         0.2145         0.4075      \n",
       "6 0.4130         0.1905         0.2480      "
      ]
     },
     "metadata": {},
     "output_type": "display_data"
    }
   ],
   "source": [
    "abalone_test <- cbind(predicted_rings = predictions, \n",
    "                      abalone_test[1:num_predict_rows, ])\n",
    "head(abalone_test)"
   ]
  },
  {
   "cell_type": "markdown",
   "metadata": {},
   "source": [
    "<h3>Deleting the endpoint</h3>\n",
    "\n",
    "When you're done with the model, delete the endpoint to avoid incurring deployment costs:"
   ]
  },
  {
   "cell_type": "code",
   "execution_count": null,
   "metadata": {},
   "outputs": [],
   "source": [
    "session$delete_endpoint(model_endpoint$endpoint)"
   ]
  }
 ],
 "metadata": {
  "kernelspec": {
   "display_name": "R",
   "language": "R",
   "name": "ir"
  },
  "language_info": {
   "codemirror_mode": "r",
   "file_extension": ".r",
   "mimetype": "text/x-r-source",
   "name": "R",
   "pygments_lexer": "r",
   "version": "3.6.1"
  }
 },
 "nbformat": 4,
 "nbformat_minor": 2
}
