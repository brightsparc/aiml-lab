{
 "cells": [
  {
   "cell_type": "markdown",
   "metadata": {},
   "source": [
    "<h1>Using R with Amazon SageMaker</h1>\n",
    "\n",
    "This sample Notebook describes how to call MARS library directly within this shell."
   ]
  },
  {
   "cell_type": "code",
   "execution_count": 1,
   "metadata": {},
   "outputs": [
    {
     "name": "stderr",
     "output_type": "stream",
     "text": [
      "Updating HTML index of packages in '.Library'\n",
      "Making 'packages.html' ... done\n"
     ]
    }
   ],
   "source": [
    "install.packages(c('mda', 'Metrics'), repos='http://cran.us.r-project.org')"
   ]
  },
  {
   "cell_type": "code",
   "execution_count": 2,
   "metadata": {},
   "outputs": [
    {
     "name": "stderr",
     "output_type": "stream",
     "text": [
      "Loading required package: class\n",
      "Loaded mda 0.4-10\n",
      "\n"
     ]
    }
   ],
   "source": [
    "# Bring in library that contains multivariate adaptive regression splines (MARS)\n",
    "library(mda)\n",
    "library(Metrics)\n",
    "library(readr)"
   ]
  },
  {
   "cell_type": "code",
   "execution_count": 3,
   "metadata": {},
   "outputs": [],
   "source": [
    "# Hyper paramers\n",
    "target = 'Sepal.Length'\n",
    "degree = 2\n",
    "input_path = 'iris.csv'\n",
    "output_path = 'output'\n",
    "model_path = 'model'"
   ]
  },
  {
   "cell_type": "code",
   "execution_count": 4,
   "metadata": {},
   "outputs": [
    {
     "name": "stderr",
     "output_type": "stream",
     "text": [
      "Warning message in dir.create(output_path):\n",
      "“'output' already exists”Warning message in dir.create(model_path):\n",
      "“'model' already exists”"
     ]
    }
   ],
   "source": [
    "# Create model and output directories\n",
    "dir.create(output_path)\n",
    "dir.create(model_path)"
   ]
  },
  {
   "cell_type": "code",
   "execution_count": 5,
   "metadata": {},
   "outputs": [
    {
     "name": "stderr",
     "output_type": "stream",
     "text": [
      "Parsed with column specification:\n",
      "cols(\n",
      "  Sepal.Length = col_double(),\n",
      "  Sepal.Width = col_double(),\n",
      "  Petal.Length = col_double(),\n",
      "  Petal.Width = col_double(),\n",
      "  Species = col_character()\n",
      ")\n"
     ]
    },
    {
     "data": {
      "text/html": [
       "<table>\n",
       "<thead><tr><th scope=col>Sepal.Length</th><th scope=col>Sepal.Width</th><th scope=col>Petal.Length</th><th scope=col>Petal.Width</th><th scope=col>Species</th></tr></thead>\n",
       "<tbody>\n",
       "\t<tr><td>5.1   </td><td>3.5   </td><td>1.4   </td><td>0.2   </td><td>setosa</td></tr>\n",
       "\t<tr><td>4.9   </td><td>3.0   </td><td>1.4   </td><td>0.2   </td><td>setosa</td></tr>\n",
       "\t<tr><td>4.7   </td><td>3.2   </td><td>1.3   </td><td>0.2   </td><td>setosa</td></tr>\n",
       "\t<tr><td>4.6   </td><td>3.1   </td><td>1.5   </td><td>0.2   </td><td>setosa</td></tr>\n",
       "\t<tr><td>5.0   </td><td>3.6   </td><td>1.4   </td><td>0.2   </td><td>setosa</td></tr>\n",
       "\t<tr><td>5.4   </td><td>3.9   </td><td>1.7   </td><td>0.4   </td><td>setosa</td></tr>\n",
       "</tbody>\n",
       "</table>\n"
      ],
      "text/latex": [
       "\\begin{tabular}{r|lllll}\n",
       " Sepal.Length & Sepal.Width & Petal.Length & Petal.Width & Species\\\\\n",
       "\\hline\n",
       "\t 5.1    & 3.5    & 1.4    & 0.2    & setosa\\\\\n",
       "\t 4.9    & 3.0    & 1.4    & 0.2    & setosa\\\\\n",
       "\t 4.7    & 3.2    & 1.3    & 0.2    & setosa\\\\\n",
       "\t 4.6    & 3.1    & 1.5    & 0.2    & setosa\\\\\n",
       "\t 5.0    & 3.6    & 1.4    & 0.2    & setosa\\\\\n",
       "\t 5.4    & 3.9    & 1.7    & 0.4    & setosa\\\\\n",
       "\\end{tabular}\n"
      ],
      "text/markdown": [
       "\n",
       "| Sepal.Length | Sepal.Width | Petal.Length | Petal.Width | Species |\n",
       "|---|---|---|---|---|\n",
       "| 5.1    | 3.5    | 1.4    | 0.2    | setosa |\n",
       "| 4.9    | 3.0    | 1.4    | 0.2    | setosa |\n",
       "| 4.7    | 3.2    | 1.3    | 0.2    | setosa |\n",
       "| 4.6    | 3.1    | 1.5    | 0.2    | setosa |\n",
       "| 5.0    | 3.6    | 1.4    | 0.2    | setosa |\n",
       "| 5.4    | 3.9    | 1.7    | 0.4    | setosa |\n",
       "\n"
      ],
      "text/plain": [
       "  Sepal.Length Sepal.Width Petal.Length Petal.Width Species\n",
       "1 5.1          3.5         1.4          0.2         setosa \n",
       "2 4.9          3.0         1.4          0.2         setosa \n",
       "3 4.7          3.2         1.3          0.2         setosa \n",
       "4 4.6          3.1         1.5          0.2         setosa \n",
       "5 5.0          3.6         1.4          0.2         setosa \n",
       "6 5.4          3.9         1.7          0.4         setosa "
      ]
     },
     "metadata": {},
     "output_type": "display_data"
    }
   ],
   "source": [
    "# Bring in data\n",
    "training_data <- read_csv(file = input_path, col_names = TRUE)\n",
    "head(training_data)"
   ]
  },
  {
   "cell_type": "code",
   "execution_count": 6,
   "metadata": {},
   "outputs": [
    {
     "name": "stderr",
     "output_type": "stream",
     "text": [
      "Registered S3 methods overwritten by 'ggplot2':\n",
      "  method         from \n",
      "  [.quosures     rlang\n",
      "  c.quosures     rlang\n",
      "  print.quosures rlang\n"
     ]
    },
    {
     "data": {
      "image/png": "[encoded data removed]",
      "text/plain": [
       "plot without title"
      ]
     },
     "metadata": {},
     "output_type": "display_data"
    }
   ],
   "source": [
    "library(ggplot2)\n",
    "qplot(iris$Sepal.Length, geom='histogram', bins=50)"
   ]
  },
  {
   "cell_type": "code",
   "execution_count": 7,
   "metadata": {},
   "outputs": [],
   "source": [
    "# Convert to model matrix\n",
    "training_X <- model.matrix(~., training_data[, colnames(training_data) != target])"
   ]
  },
  {
   "cell_type": "code",
   "execution_count": 8,
   "metadata": {},
   "outputs": [],
   "source": [
    "# Save factor levels for scoring\n",
    "factor_levels <- lapply(training_data[, sapply(training_data, is.factor), drop=FALSE],\n",
    "                        function(x) {levels(x)})"
   ]
  },
  {
   "cell_type": "code",
   "execution_count": 9,
   "metadata": {},
   "outputs": [],
   "source": [
    "# Run multivariate adaptive regression splines algorithm\n",
    "model <- mars(x=training_X, y=training_data[, target], degree=degree)"
   ]
  },
  {
   "cell_type": "code",
   "execution_count": 10,
   "metadata": {},
   "outputs": [
    {
     "name": "stdout",
     "output_type": "stream",
     "text": [
      "               Length Class  Mode   \n",
      "call             4    -none- call   \n",
      "all.terms       18    -none- numeric\n",
      "selected.terms   6    -none- numeric\n",
      "penalty          1    -none- numeric\n",
      "degree           1    -none- numeric\n",
      "nk               1    -none- numeric\n",
      "thresh           1    -none- numeric\n",
      "gcv              1    -none- numeric\n",
      "factor         126    -none- numeric\n",
      "cuts           126    -none- numeric\n",
      "lenb             1    -none- numeric\n",
      "coefficients     6    -none- numeric\n"
     ]
    }
   ],
   "source": [
    "# Generate outputs\n",
    "mars_model <- model[!(names(model) %in% c('x', 'residuals', 'fitted.values'))]\n",
    "attributes(mars_model)$class <- 'mars'\n",
    "model_file <- paste(model_path, 'mars_model.RData', sep='/')\n",
    "save(mars_model, factor_levels, file=model_file)\n",
    "print(summary(mars_model))"
   ]
  },
  {
   "cell_type": "code",
   "execution_count": 11,
   "metadata": {},
   "outputs": [],
   "source": [
    "output_file <- paste(output_path, 'fitted_values.csv', sep='/')\n",
    "write.csv(model$fitted.values, output_file, row.names=FALSE)"
   ]
  },
  {
   "cell_type": "code",
   "execution_count": 12,
   "metadata": {},
   "outputs": [
    {
     "name": "stderr",
     "output_type": "stream",
     "text": [
      "Parsed with column specification:\n",
      "cols(\n",
      "  Sepal.Length = col_double()\n",
      ")\n"
     ]
    }
   ],
   "source": [
    "# Load back the predictions\n",
    "output_data <- read_csv(file = output_file, col_names = TRUE)"
   ]
  },
  {
   "cell_type": "code",
   "execution_count": 13,
   "metadata": {},
   "outputs": [
    {
     "data": {
      "text/html": [
       "<table>\n",
       "<thead><tr><th scope=col>Predicted.Length</th><th scope=col>Sepal.Length</th><th scope=col>Sepal.Width</th><th scope=col>Petal.Length</th><th scope=col>Petal.Width</th><th scope=col>Species</th></tr></thead>\n",
       "<tbody>\n",
       "\t<tr><td>5.025068</td><td>5.1     </td><td>3.5     </td><td>1.4     </td><td>0.2     </td><td>setosa  </td></tr>\n",
       "\t<tr><td>4.695197</td><td>4.9     </td><td>3.0     </td><td>1.4     </td><td>0.2     </td><td>setosa  </td></tr>\n",
       "\t<tr><td>4.768124</td><td>4.7     </td><td>3.2     </td><td>1.3     </td><td>0.2     </td><td>setosa  </td></tr>\n",
       "\t<tr><td>4.820192</td><td>4.6     </td><td>3.1     </td><td>1.5     </td><td>0.2     </td><td>setosa  </td></tr>\n",
       "\t<tr><td>5.091042</td><td>5.0     </td><td>3.6     </td><td>1.4     </td><td>0.2     </td><td>setosa  </td></tr>\n",
       "\t<tr><td>5.466028</td><td>5.4     </td><td>3.9     </td><td>1.7     </td><td>0.4     </td><td>setosa  </td></tr>\n",
       "</tbody>\n",
       "</table>\n"
      ],
      "text/latex": [
       "\\begin{tabular}{r|llllll}\n",
       " Predicted.Length & Sepal.Length & Sepal.Width & Petal.Length & Petal.Width & Species\\\\\n",
       "\\hline\n",
       "\t 5.025068 & 5.1      & 3.5      & 1.4      & 0.2      & setosa  \\\\\n",
       "\t 4.695197 & 4.9      & 3.0      & 1.4      & 0.2      & setosa  \\\\\n",
       "\t 4.768124 & 4.7      & 3.2      & 1.3      & 0.2      & setosa  \\\\\n",
       "\t 4.820192 & 4.6      & 3.1      & 1.5      & 0.2      & setosa  \\\\\n",
       "\t 5.091042 & 5.0      & 3.6      & 1.4      & 0.2      & setosa  \\\\\n",
       "\t 5.466028 & 5.4      & 3.9      & 1.7      & 0.4      & setosa  \\\\\n",
       "\\end{tabular}\n"
      ],
      "text/markdown": [
       "\n",
       "| Predicted.Length | Sepal.Length | Sepal.Width | Petal.Length | Petal.Width | Species |\n",
       "|---|---|---|---|---|---|\n",
       "| 5.025068 | 5.1      | 3.5      | 1.4      | 0.2      | setosa   |\n",
       "| 4.695197 | 4.9      | 3.0      | 1.4      | 0.2      | setosa   |\n",
       "| 4.768124 | 4.7      | 3.2      | 1.3      | 0.2      | setosa   |\n",
       "| 4.820192 | 4.6      | 3.1      | 1.5      | 0.2      | setosa   |\n",
       "| 5.091042 | 5.0      | 3.6      | 1.4      | 0.2      | setosa   |\n",
       "| 5.466028 | 5.4      | 3.9      | 1.7      | 0.4      | setosa   |\n",
       "\n"
      ],
      "text/plain": [
       "  Predicted.Length Sepal.Length Sepal.Width Petal.Length Petal.Width Species\n",
       "1 5.025068         5.1          3.5         1.4          0.2         setosa \n",
       "2 4.695197         4.9          3.0         1.4          0.2         setosa \n",
       "3 4.768124         4.7          3.2         1.3          0.2         setosa \n",
       "4 4.820192         4.6          3.1         1.5          0.2         setosa \n",
       "5 5.091042         5.0          3.6         1.4          0.2         setosa \n",
       "6 5.466028         5.4          3.9         1.7          0.4         setosa "
      ]
     },
     "metadata": {},
     "output_type": "display_data"
    }
   ],
   "source": [
    "iris_test <- cbind(Predicted.Length = output_data$Sepal.Length, training_data)\n",
    "head(iris_test)"
   ]
  },
  {
   "cell_type": "code",
   "execution_count": 14,
   "metadata": {},
   "outputs": [
    {
     "data": {
      "text/html": [
       "0.298167202144918"
      ],
      "text/latex": [
       "0.298167202144918"
      ],
      "text/markdown": [
       "0.298167202144918"
      ],
      "text/plain": [
       "[1] 0.2981672"
      ]
     },
     "metadata": {},
     "output_type": "display_data"
    }
   ],
   "source": [
    "# Calculate the RMSE\n",
    "rmse(iris_test$Sepal.Length, iris_test$Predicted.Length)"
   ]
  },
  {
   "cell_type": "code",
   "execution_count": 15,
   "metadata": {},
   "outputs": [
    {
     "data": {
      "image/png": "[encoded data removed]",
      "text/plain": [
       "plot without title"
      ]
     },
     "metadata": {},
     "output_type": "display_data"
    }
   ],
   "source": [
    "# Compare the predictions vs actual\n",
    "ggplot(iris_test, aes(x=Sepal.Length, y=Predicted.Length)) + geom_point()"
   ]
  },
  {
   "cell_type": "code",
   "execution_count": null,
   "metadata": {},
   "outputs": [],
   "source": []
  }
 ],
 "metadata": {
  "kernelspec": {
   "display_name": "R",
   "language": "R",
   "name": "ir"
  },
  "language_info": {
   "codemirror_mode": "r",
   "file_extension": ".r",
   "mimetype": "text/x-r-source",
   "name": "R",
   "pygments_lexer": "r",
   "version": "3.6.1"
  }
 },
 "nbformat": 4,
 "nbformat_minor": 2
}
