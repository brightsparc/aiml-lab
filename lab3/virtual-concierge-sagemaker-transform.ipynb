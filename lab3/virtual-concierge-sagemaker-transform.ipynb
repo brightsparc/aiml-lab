{
 "cells": [
  {
   "cell_type": "markdown",
   "metadata": {},
   "source": [
    "# Virtual Concierge\n",
    "\n",
    "## Host pre-trained endpoint for MXNET model\n",
    "\n",
    "In this notebook we will download a pre-trained MXNET model and deploy endpoint"
   ]
  },
  {
   "cell_type": "code",
   "execution_count": null,
   "metadata": {},
   "outputs": [],
   "source": [
    "# Download pre-trained model if haven't already created from previous notebook\n",
    "import os\n",
    "\n",
    "if not os.path.exists('model.tar.gz'):\n",
    "    !aws s3 cp s3://deeplens-virtual-concierge-model/mobilefacenet/model.tar.gz ."
   ]
  },
  {
   "cell_type": "markdown",
   "metadata": {},
   "source": [
    "### Import model into SageMaker\n",
    "\n",
    "Open a new sagemaker session and upload the model on to the default S3 bucket. We can use the ``sagemaker.Session.upload_data`` method to do this. We need the location of where we exported the model from MXNet and where in our default bucket we want to store the model(``/model``). The default S3 bucket can be found using the ``sagemaker.Session.default_bucket`` method."
   ]
  },
  {
   "cell_type": "code",
   "execution_count": null,
   "metadata": {},
   "outputs": [],
   "source": [
    "import sagemaker\n",
    "from sagemaker import get_execution_role\n",
    "\n",
    "sagemaker_session = sagemaker.Session()\n",
    "role = get_execution_role()"
   ]
  },
  {
   "cell_type": "code",
   "execution_count": null,
   "metadata": {},
   "outputs": [],
   "source": [
    "model_data = sagemaker_session.upload_data(path='model.tar.gz', key_prefix='virtual-concierge')"
   ]
  },
  {
   "cell_type": "markdown",
   "metadata": {},
   "source": [
    "Use the ``sagemaker.mxnet.model.MXNetModel`` to import the model into SageMaker that can be deployed. We need the location of the S3 bucket where we have the model, the role for authentication and the entry_point where the model defintion is stored (``predict.py``). "
   ]
  },
  {
   "cell_type": "code",
   "execution_count": null,
   "metadata": {},
   "outputs": [],
   "source": [
    "from sagemaker.mxnet.model import MXNetModel\n",
    "sagemaker_model = MXNetModel(model_data=model_data, role=role, entry_point='predict.py',\n",
    "                             py_version='py3', framework_version='1.3.0',\n",
    "                             sagemaker_session=sagemaker_session) # require session"
   ]
  },
  {
   "cell_type": "markdown",
   "metadata": {},
   "source": [
    "### Create Transformer for an existing model\n",
    "\n",
    "Create a transform and from this model."
   ]
  },
  {
   "cell_type": "code",
   "execution_count": null,
   "metadata": {},
   "outputs": [],
   "source": [
    "transformer = sagemaker_model.transformer(instance_count=1, instance_type='ml.m4.xlarge')"
   ]
  },
  {
   "cell_type": "markdown",
   "metadata": {},
   "source": [
    "## Load sample image\n",
    "\n",
    "Load s ample image from s3 and render faces"
   ]
  },
  {
   "cell_type": "code",
   "execution_count": null,
   "metadata": {},
   "outputs": [],
   "source": [
    "import boto3\n",
    "import json\n",
    "import io\n",
    "import PIL.Image, PIL.ImageDraw\n",
    "\n",
    "rekognition = boto3.client('rekognition')\n",
    "\n",
    "def get_bboxes_pillow(image):\n",
    "    # Save the image as bytes\n",
    "    imageBytes = io.BytesIO()\n",
    "    image.save(imageBytes, format='PNG')\n",
    "    # Detect faces\n",
    "    ret = rekognition.detect_faces(\n",
    "        Image={\n",
    "            'Bytes': imageBytes.getvalue()\n",
    "        },\n",
    "        Attributes=['DEFAULT'],\n",
    "    )\n",
    "    # Return the bounding boxes for each face\n",
    "    width, height = image.size\n",
    "    bboxes = []\n",
    "    for face in ret['FaceDetails']:\n",
    "        box = face['BoundingBox']\n",
    "        x1 = int(box['Left'] * width)\n",
    "        y1 = int(box['Top'] * height)\n",
    "        x2 = int(box['Left'] * width + box['Width'] * width)\n",
    "        y2 = int(box['Top'] * height + box['Height']  * height)\n",
    "        bboxes.append((x1, y1, x2, y2))\n",
    "    return bboxes"
   ]
  },
  {
   "cell_type": "code",
   "execution_count": null,
   "metadata": {},
   "outputs": [],
   "source": [
    "s3 = boto3.resource('s3')\n",
    "\n",
    "# Read image from s3\n",
    "image = {\n",
    "    'S3Object': {\n",
    "        'Bucket': 'aiml-lab-sagemaker',\n",
    "        'Name': 'politicians/politicians1.jpg'\n",
    "    }\n",
    "}\n",
    "image_object = s3.Object(image['S3Object']['Bucket'] , image['S3Object']['Name'])\n",
    "payload = image_object.get()['Body'].read()"
   ]
  },
  {
   "cell_type": "markdown",
   "metadata": {},
   "source": [
    "For each of the coordinates, get a the aligned image, and draw the rectangle"
   ]
  },
  {
   "cell_type": "code",
   "execution_count": null,
   "metadata": {},
   "outputs": [],
   "source": [
    "# Load the image and get boxes\n",
    "f = io.BytesIO(payload)\n",
    "image = PIL.Image.open(f).convert('RGB')\n",
    "boxes = get_bboxes(image)\n",
    "\n",
    "# blue, green, red, grey\n",
    "colors = ((220,220,220),(242,168,73),(76,182,252),(52,194,123))\n",
    "\n",
    "# Draw rectangles on image\n",
    "draw = PIL.ImageDraw.Draw(image)\n",
    "for col, bbox in enumerate(boxes): \n",
    "    draw.rectangle(bbox, outline=colors[col%4], width=3)\n",
    "\n",
    "image"
   ]
  },
  {
   "cell_type": "markdown",
   "metadata": {},
   "source": [
    "## Create transform input\n",
    "\n",
    "Save the images to a transform folder and upload to S3"
   ]
  },
  {
   "cell_type": "code",
   "execution_count": null,
   "metadata": {},
   "outputs": [],
   "source": [
    "!rm -Rf transform\n",
    "!mkdir -p transform"
   ]
  },
  {
   "cell_type": "code",
   "execution_count": null,
   "metadata": {},
   "outputs": [],
   "source": [
    "%%time\n",
    "\n",
    "import base64\n",
    "\n",
    "# Save cropped image as png\n",
    "for i, face in enumerate(ret['FaceDetails']):\n",
    "    event = { \n",
    "        'Image': { 'Bytes': str(base64.b64encode(payload), 'utf-8') },\n",
    "        'BoundingBox': face['BoundingBox'],\n",
    "        'Roll': round(ret['FaceDetails'][0]['Pose']['Roll']/90)*90,\n",
    "    }\n",
    "    filename = 'transform/{}.json'.format(i)\n",
    "    with open(filename, 'w') as f:\n",
    "        print('saving: {}'.format(filename))\n",
    "        json.dump(event, f)"
   ]
  },
  {
   "cell_type": "code",
   "execution_count": null,
   "metadata": {},
   "outputs": [],
   "source": [
    "# Save the numpy image to s3 for batch transform\n",
    "image_data = sagemaker_session.upload_data(path='transform', key_prefix='virtual-concierge/transform')\n",
    "!aws s3 ls $image_data/"
   ]
  },
  {
   "cell_type": "markdown",
   "metadata": {},
   "source": [
    "Run the transform process on this file"
   ]
  },
  {
   "cell_type": "code",
   "execution_count": null,
   "metadata": {},
   "outputs": [],
   "source": [
    "transformer.accept = 'application/json'\n",
    "transformer.transform(image_data, content_type='application/json', split_type='Line')\n",
    "transformer.wait()"
   ]
  },
  {
   "cell_type": "code",
   "execution_count": null,
   "metadata": {},
   "outputs": [],
   "source": [
    "# TODO: Load the file back from s3 to read the results"
   ]
  },
  {
   "cell_type": "markdown",
   "metadata": {},
   "source": [
    "## Clean up\n",
    "\n",
    "Tear down the sagemaker model"
   ]
  },
  {
   "cell_type": "code",
   "execution_count": null,
   "metadata": {},
   "outputs": [],
   "source": [
    "sagemaker_model.delete_model()"
   ]
  },
  {
   "cell_type": "code",
   "execution_count": null,
   "metadata": {},
   "outputs": [],
   "source": [
    "import shutil\n",
    "\n",
    "shutil.rmtree('transform')\n",
    "os.remove('model.tar.gz')\n",
    "shutil.rmtree('model')"
   ]
  }
 ],
 "metadata": {
  "kernelspec": {
   "display_name": "conda_mxnet_p36",
   "language": "python",
   "name": "conda_mxnet_p36"
  },
  "language_info": {
   "codemirror_mode": {
    "name": "ipython",
    "version": 3
   },
   "file_extension": ".py",
   "mimetype": "text/x-python",
   "name": "python",
   "nbconvert_exporter": "python",
   "pygments_lexer": "ipython3",
   "version": "3.6.5"
  }
 },
 "nbformat": 4,
 "nbformat_minor": 2
}
