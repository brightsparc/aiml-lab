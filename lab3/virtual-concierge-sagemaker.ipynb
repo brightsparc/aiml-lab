{
 "cells": [
  {
   "cell_type": "markdown",
   "metadata": {},
   "source": [
    "# Virtual Concierge\n",
    "\n",
    "## Host pre-trained endpoint for MXNET model\n",
    "\n",
    "In this notebook we will download a pre-trained MXNET model and deploy endpoint"
   ]
  },
  {
   "cell_type": "code",
   "execution_count": 1,
   "metadata": {},
   "outputs": [],
   "source": [
    "# Download pre-trained model if haven't already created from previous notebook\n",
    "import os\n",
    "\n",
    "if not os.path.exists('model.tar.gz'):\n",
    "    !aws s3 cp s3://deeplens-virtual-concierge-model/mobilefacenet/model.tar.gz ."
   ]
  },
  {
   "cell_type": "markdown",
   "metadata": {},
   "source": [
    "### Import model into SageMaker\n",
    "\n",
    "Open a new sagemaker session and upload the model on to the default S3 bucket. We can use the ``sagemaker.Session.upload_data`` method to do this. We need the location of where we exported the model from MXNet and where in our default bucket we want to store the model(``/model``). The default S3 bucket can be found using the ``sagemaker.Session.default_bucket`` method."
   ]
  },
  {
   "cell_type": "code",
   "execution_count": 2,
   "metadata": {},
   "outputs": [],
   "source": [
    "import sagemaker\n",
    "from sagemaker import get_execution_role\n",
    "\n",
    "sagemaker_session = sagemaker.Session()\n",
    "role = get_execution_role()"
   ]
  },
  {
   "cell_type": "code",
   "execution_count": 3,
   "metadata": {},
   "outputs": [
    {
     "name": "stderr",
     "output_type": "stream",
     "text": [
      "INFO:sagemaker:Created S3 bucket: sagemaker-us-east-1-423079281568\n"
     ]
    }
   ],
   "source": [
    "model_data = sagemaker_session.upload_data(path='model.tar.gz', key_prefix='virtual-concierge')"
   ]
  },
  {
   "cell_type": "markdown",
   "metadata": {},
   "source": [
    "Use the ``sagemaker.mxnet.model.MXNetModel`` to import the model into SageMaker that can be deployed. We need the location of the S3 bucket where we have the model, the role for authentication and the entry_point where the model defintion is stored (``predict.py``). "
   ]
  },
  {
   "cell_type": "code",
   "execution_count": 4,
   "metadata": {},
   "outputs": [],
   "source": [
    "from sagemaker.mxnet.model import MXNetModel\n",
    "sagemaker_model = MXNetModel(model_data=model_data, role=role, entry_point='predict.py')"
   ]
  },
  {
   "cell_type": "markdown",
   "metadata": {},
   "source": [
    "### Create endpoint\n",
    "\n",
    "Now the model is ready to be deployed at a SageMaker endpoint. We can use the ``sagemaker.mxnet.model.MXNetModel.deploy`` method to do this. Unless you have created or prefer other instances, we recommend using 1 ``'ml.c4.xlarge'`` instance for this training. These are supplied as arguments. "
   ]
  },
  {
   "cell_type": "code",
   "execution_count": 5,
   "metadata": {},
   "outputs": [
    {
     "name": "stderr",
     "output_type": "stream",
     "text": [
      "INFO:sagemaker:Created S3 bucket: sagemaker-us-east-1-423079281568\n",
      "INFO:sagemaker:Creating model with name: sagemaker-mxnet-2019-04-02-05-03-24-447\n",
      "INFO:sagemaker:Creating endpoint with name sagemaker-mxnet-2019-04-02-05-03-24-447\n"
     ]
    },
    {
     "name": "stdout",
     "output_type": "stream",
     "text": [
      "---------------------------------------------------------------------------!"
     ]
    }
   ],
   "source": [
    "import logging\n",
    "logging.getLogger().setLevel(logging.WARNING)\n",
    "\n",
    "predictor = sagemaker_model.deploy(initial_instance_count=1, instance_type='ml.m4.xlarge')"
   ]
  },
  {
   "cell_type": "markdown",
   "metadata": {},
   "source": [
    "### Making an inference request\n",
    "\n",
    "Now that our Endpoint is deployed and we have a ``predictor`` object which we can call for inference.\n",
    "\n",
    "We wiill pass a single batch of an aligned image as a numpy array in the shape the model expects, setting `content_type` and `serializer` to convert into bytes.  The `predict.py` endpoint includes overides for `model_fn` to load fully connected layer and `transform_fn` to [transform](https://sagemaker.readthedocs.io/en/stable/using_mxnet.html?highlight=input_fn#using-input-fn-predict-fn-and-output-fn) to load numpy input and return normalized emeddings as json.\n",
    "\n",
    "The SageMaker MXNet containers are [open source](https://github.com/aws/sagemaker-containers) if you needed more details."
   ]
  },
  {
   "cell_type": "code",
   "execution_count": 7,
   "metadata": {},
   "outputs": [
    {
     "name": "stdout",
     "output_type": "stream",
     "text": [
      "\u001b[34mdef\u001b[39;49;00m \u001b[32mmodel_fn\u001b[39;49;00m(model_dir, prefered_batch_size=\u001b[34m1\u001b[39;49;00m, image_size=(\u001b[34m112\u001b[39;49;00m,\u001b[34m112\u001b[39;49;00m)):\r\n",
      "    \u001b[33m\"\"\"Function responsible for loading the model.\u001b[39;49;00m\r\n",
      "\u001b[33m    Args:\u001b[39;49;00m\r\n",
      "\u001b[33m        model_dir (str): The directory where model files are stored\u001b[39;49;00m\r\n",
      "\u001b[33m    Returns:\u001b[39;49;00m\r\n",
      "\u001b[33m        mxnet.mod.Module: the loaded model.\u001b[39;49;00m\r\n",
      "\u001b[33m    \"\"\"\u001b[39;49;00m\r\n",
      "    \r\n",
      "    \u001b[34mimport\u001b[39;49;00m \u001b[04m\u001b[36mmxnet\u001b[39;49;00m \u001b[34mas\u001b[39;49;00m \u001b[04m\u001b[36mmx\u001b[39;49;00m\r\n",
      "    \u001b[34mimport\u001b[39;49;00m \u001b[04m\u001b[36mos\u001b[39;49;00m\r\n",
      "    \u001b[34mimport\u001b[39;49;00m \u001b[04m\u001b[36mlogging\u001b[39;49;00m\r\n",
      "    \r\n",
      "    logging.info(\u001b[33m'\u001b[39;49;00m\u001b[33mInvoking model load\u001b[39;49;00m\u001b[33m'\u001b[39;49;00m)    \r\n",
      "    \r\n",
      "    data_shapes = [(\u001b[33m'\u001b[39;49;00m\u001b[33mdata\u001b[39;49;00m\u001b[33m'\u001b[39;49;00m, (prefered_batch_size, \u001b[34m3\u001b[39;49;00m, image_size[\u001b[34m0\u001b[39;49;00m], image_size[\u001b[34m1\u001b[39;49;00m]))]\r\n",
      "\r\n",
      "    sym, args, aux = mx.model.load_checkpoint(os.path.join(model_dir, \u001b[33m'\u001b[39;49;00m\u001b[33mmodel\u001b[39;49;00m\u001b[33m'\u001b[39;49;00m), \u001b[34m0\u001b[39;49;00m)\r\n",
      "\r\n",
      "    ctx = mx.cpu()\r\n",
      "                   \r\n",
      "    model = mx.mod.Module(symbol=sym, context=ctx, label_names=\u001b[36mNone\u001b[39;49;00m)\r\n",
      "    model.bind(for_training=\u001b[36mFalse\u001b[39;49;00m, data_shapes=data_shapes)\r\n",
      "    model.set_params(args, aux, allow_missing=\u001b[36mTrue\u001b[39;49;00m)\r\n",
      "\r\n",
      "    \u001b[34mreturn\u001b[39;49;00m model\r\n",
      "\r\n",
      "\u001b[34mdef\u001b[39;49;00m \u001b[32mtransform_fn\u001b[39;49;00m(model, request_body, request_content_type, accept_type):\r\n",
      "    \u001b[33m\"\"\"\u001b[39;49;00m\r\n",
      "\u001b[33m    Transform a request using the Gluon model. Called once per request.\u001b[39;49;00m\r\n",
      "\u001b[33m    :param model: The model.\u001b[39;49;00m\r\n",
      "\u001b[33m    :param request_body: The request payload.\u001b[39;49;00m\r\n",
      "\u001b[33m    :param request_content_type: The request content type.\u001b[39;49;00m\r\n",
      "\u001b[33m    :param accept_type: The (desired) response content type.\u001b[39;49;00m\r\n",
      "\u001b[33m    :return: response payload and content type.\u001b[39;49;00m\r\n",
      "\u001b[33m    \"\"\"\u001b[39;49;00m\r\n",
      "\r\n",
      "    \u001b[34mimport\u001b[39;49;00m \u001b[04m\u001b[36mmxnet\u001b[39;49;00m \u001b[34mas\u001b[39;49;00m \u001b[04m\u001b[36mmx\u001b[39;49;00m\r\n",
      "    \u001b[34mimport\u001b[39;49;00m \u001b[04m\u001b[36mlogging\u001b[39;49;00m\r\n",
      "    \r\n",
      "    logging.info(\u001b[33m'\u001b[39;49;00m\u001b[33mInvoking transform Shape: {}, Content Type: {}, Accept: {}\u001b[39;49;00m\u001b[33m'\u001b[39;49;00m.format(\r\n",
      "        model.data_shapes[\u001b[34m0\u001b[39;49;00m][\u001b[34m1\u001b[39;49;00m], request_content_type, accept_type))\r\n",
      "    \r\n",
      "    array = neo_preprocess(request_body, request_content_type)\r\n",
      "    \r\n",
      "    logging.debug(\u001b[33m'\u001b[39;49;00m\u001b[33mModel input: {}\u001b[39;49;00m\u001b[33m'\u001b[39;49;00m.format(array))\r\n",
      "\r\n",
      "    data = mx.nd.array(array)\r\n",
      "    db = mx.io.DataBatch(data=(data,))\r\n",
      "    model.forward(db, is_train=\u001b[36mFalse\u001b[39;49;00m)\r\n",
      "    output = model.get_outputs()[\u001b[34m0\u001b[39;49;00m].asnumpy()\r\n",
      "\r\n",
      "    logging.debug(\u001b[33m'\u001b[39;49;00m\u001b[33mModel output: {}\u001b[39;49;00m\u001b[33m'\u001b[39;49;00m.format(output))\r\n",
      "\r\n",
      "    \u001b[34mif\u001b[39;49;00m accept_type == \u001b[33m'\u001b[39;49;00m\u001b[33mapplication/json\u001b[39;49;00m\u001b[33m'\u001b[39;49;00m:\r\n",
      "        \u001b[34mreturn\u001b[39;49;00m neo_postprocess(output)\r\n",
      "    \u001b[34melse\u001b[39;49;00m:\r\n",
      "        \u001b[34mraise\u001b[39;49;00m \u001b[36mRuntimeError\u001b[39;49;00m(\u001b[33m'\u001b[39;49;00m\u001b[33mAccept header must be application/json\u001b[39;49;00m\u001b[33m'\u001b[39;49;00m)\r\n",
      "\r\n",
      "\u001b[37m### NOTE: This function is used within lambda layer\u001b[39;49;00m\r\n",
      "\u001b[34mdef\u001b[39;49;00m \u001b[32mneo_load\u001b[39;49;00m(model_path=\u001b[33m'\u001b[39;49;00m\u001b[33mcompiled\u001b[39;49;00m\u001b[33m'\u001b[39;49;00m, device=\u001b[33m'\u001b[39;49;00m\u001b[33mcpu\u001b[39;49;00m\u001b[33m'\u001b[39;49;00m):\r\n",
      "    \u001b[34mimport\u001b[39;49;00m \u001b[04m\u001b[36mlogging\u001b[39;49;00m\r\n",
      "    \u001b[34mimport\u001b[39;49;00m \u001b[04m\u001b[36mos\u001b[39;49;00m\r\n",
      "    \u001b[34mfrom\u001b[39;49;00m \u001b[04m\u001b[36mdlr\u001b[39;49;00m \u001b[34mimport\u001b[39;49;00m DLRModel \u001b[37m# Import the relative dlr library\u001b[39;49;00m\r\n",
      "    \r\n",
      "    model_path = os.path.join(os.path.dirname(os.path.abspath(\u001b[31m__file__\u001b[39;49;00m)), model_path)    \r\n",
      "    logging.info(\u001b[33m'\u001b[39;49;00m\u001b[33mLoading model: {} on: {}\u001b[39;49;00m\u001b[33m'\u001b[39;49;00m.format(model_path, device))\r\n",
      "    \r\n",
      "    \u001b[34mreturn\u001b[39;49;00m DLRModel(model_path, device)\r\n",
      "\r\n",
      "\u001b[34mdef\u001b[39;49;00m \u001b[32mneo_inference\u001b[39;49;00m(model, data):\r\n",
      "    \u001b[34mimport\u001b[39;49;00m \u001b[04m\u001b[36mlogging\u001b[39;49;00m\r\n",
      "\r\n",
      "    logging.info(\u001b[33m'\u001b[39;49;00m\u001b[33mInvoking inference for model\u001b[39;49;00m\u001b[33m'\u001b[39;49;00m)\r\n",
      "    \r\n",
      "    input_data = {\u001b[33m'\u001b[39;49;00m\u001b[33mdata\u001b[39;49;00m\u001b[33m'\u001b[39;49;00m: data}\r\n",
      "    \r\n",
      "    \u001b[34mreturn\u001b[39;49;00m model.run(input_data)[\u001b[34m0\u001b[39;49;00m]\r\n",
      "\r\n",
      "\u001b[37m### NOTE: this function cannot use MXNet\u001b[39;49;00m\r\n",
      "\u001b[34mdef\u001b[39;49;00m \u001b[32mneo_preprocess\u001b[39;49;00m(payload, content_type, bbox=\u001b[36mNone\u001b[39;49;00m, image_size=(\u001b[34m112\u001b[39;49;00m, \u001b[34m112\u001b[39;49;00m)):\r\n",
      "    \u001b[34mimport\u001b[39;49;00m \u001b[04m\u001b[36mlogging\u001b[39;49;00m\r\n",
      "    \u001b[34mimport\u001b[39;49;00m \u001b[04m\u001b[36mnumpy\u001b[39;49;00m \u001b[34mas\u001b[39;49;00m \u001b[04m\u001b[36mnp\u001b[39;49;00m\r\n",
      "    \u001b[34mimport\u001b[39;49;00m \u001b[04m\u001b[36mio\u001b[39;49;00m\r\n",
      "\r\n",
      "    logging.info(\u001b[33m'\u001b[39;49;00m\u001b[33mInvoking user-defined pre-processing function\u001b[39;49;00m\u001b[33m'\u001b[39;49;00m)\r\n",
      "\r\n",
      "    \u001b[34mif\u001b[39;49;00m content_type == \u001b[33m'\u001b[39;49;00m\u001b[33mapplication/x-npy\u001b[39;49;00m\u001b[33m'\u001b[39;49;00m:\r\n",
      "        f = io.BytesIO(payload)\r\n",
      "        \u001b[34mreturn\u001b[39;49;00m np.load(f)\r\n",
      "    \u001b[34melif\u001b[39;49;00m content_type == \u001b[33m'\u001b[39;49;00m\u001b[33mapplication/x-image\u001b[39;49;00m\u001b[33m'\u001b[39;49;00m:\r\n",
      "        \u001b[37m# Only load PIL if required to transform bytes\u001b[39;49;00m\r\n",
      "        \u001b[34mimport\u001b[39;49;00m \u001b[04m\u001b[36mPIL.Image\u001b[39;49;00m\r\n",
      "        f = io.BytesIO(payload)\r\n",
      "        \u001b[37m# Load image and convert to RGB space\u001b[39;49;00m\r\n",
      "        image = PIL.Image.open(f).convert(\u001b[33m'\u001b[39;49;00m\u001b[33mRGB\u001b[39;49;00m\u001b[33m'\u001b[39;49;00m)\r\n",
      "        \u001b[37m# Crop relative to image size\u001b[39;49;00m\r\n",
      "        \u001b[34mif\u001b[39;49;00m bbox != \u001b[36mNone\u001b[39;49;00m:\r\n",
      "            width, height = image.size\r\n",
      "            x1 = \u001b[36mint\u001b[39;49;00m(bbox[\u001b[33m'\u001b[39;49;00m\u001b[33mLeft\u001b[39;49;00m\u001b[33m'\u001b[39;49;00m] * width)\r\n",
      "            y1 = \u001b[36mint\u001b[39;49;00m(bbox[\u001b[33m'\u001b[39;49;00m\u001b[33mTop\u001b[39;49;00m\u001b[33m'\u001b[39;49;00m] * height)\r\n",
      "            x2 = \u001b[36mint\u001b[39;49;00m(bbox[\u001b[33m'\u001b[39;49;00m\u001b[33mLeft\u001b[39;49;00m\u001b[33m'\u001b[39;49;00m] * width + bbox[\u001b[33m'\u001b[39;49;00m\u001b[33mWidth\u001b[39;49;00m\u001b[33m'\u001b[39;49;00m] * width)\r\n",
      "            y2 = \u001b[36mint\u001b[39;49;00m(bbox[\u001b[33m'\u001b[39;49;00m\u001b[33mTop\u001b[39;49;00m\u001b[33m'\u001b[39;49;00m] * height + bbox[\u001b[33m'\u001b[39;49;00m\u001b[33mHeight\u001b[39;49;00m\u001b[33m'\u001b[39;49;00m]  * height)\r\n",
      "            image = image.crop((x1, y1, x2, y2))\r\n",
      "        \u001b[37m# Resize\u001b[39;49;00m\r\n",
      "        image = image.resize(image_size)\r\n",
      "         \u001b[37m# Transpose\u001b[39;49;00m\r\n",
      "        \u001b[34mreturn\u001b[39;49;00m np.rollaxis(np.asarray(image), axis=\u001b[34m2\u001b[39;49;00m, start=\u001b[34m0\u001b[39;49;00m)[np.newaxis, :]\r\n",
      "    \u001b[34melse\u001b[39;49;00m:\r\n",
      "        \u001b[34mraise\u001b[39;49;00m \u001b[36mRuntimeError\u001b[39;49;00m(\u001b[33m'\u001b[39;49;00m\u001b[33mContent type must be application/x-image or application/x-npy\u001b[39;49;00m\u001b[33m'\u001b[39;49;00m)\r\n",
      "\r\n",
      "\u001b[37m### NOTE: this function cannot use MXNet\u001b[39;49;00m\r\n",
      "\u001b[34mdef\u001b[39;49;00m \u001b[32mneo_postprocess\u001b[39;49;00m(result):\r\n",
      "    \u001b[34mimport\u001b[39;49;00m \u001b[04m\u001b[36mlogging\u001b[39;49;00m\r\n",
      "    \u001b[34mimport\u001b[39;49;00m \u001b[04m\u001b[36mnumpy\u001b[39;49;00m \u001b[34mas\u001b[39;49;00m \u001b[04m\u001b[36mnp\u001b[39;49;00m\r\n",
      "    \u001b[34mimport\u001b[39;49;00m \u001b[04m\u001b[36mjson\u001b[39;49;00m\r\n",
      "\r\n",
      "    \u001b[34mdef\u001b[39;49;00m \u001b[32ml2_normalize\u001b[39;49;00m(X):\r\n",
      "        norms = np.sqrt((X * X).sum(axis=\u001b[34m1\u001b[39;49;00m))\r\n",
      "        X /= norms[:, np.newaxis]\r\n",
      "        \u001b[34mreturn\u001b[39;49;00m X\r\n",
      "\r\n",
      "    logging.info(\u001b[33m'\u001b[39;49;00m\u001b[33mInvoking user-defined post-processing function\u001b[39;49;00m\u001b[33m'\u001b[39;49;00m)\r\n",
      "\r\n",
      "    \u001b[37m# Return a normalize embedding\u001b[39;49;00m\r\n",
      "    embedding = l2_normalize(np.array(result)).flatten()\r\n",
      "    \r\n",
      "    response_body = json.dumps(embedding.tolist())\r\n",
      "    content_type = \u001b[33m'\u001b[39;49;00m\u001b[33mapplication/json\u001b[39;49;00m\u001b[33m'\u001b[39;49;00m\r\n",
      "\r\n",
      "    \u001b[34mreturn\u001b[39;49;00m response_body, content_type\r\n"
     ]
    }
   ],
   "source": [
    "!pygmentize predict.py"
   ]
  },
  {
   "cell_type": "markdown",
   "metadata": {},
   "source": [
    "## Send requests\n",
    "\n",
    "Download a sample picture, detect the first face"
   ]
  },
  {
   "cell_type": "code",
   "execution_count": 57,
   "metadata": {},
   "outputs": [
    {
     "name": "stdout",
     "output_type": "stream",
     "text": [
      "{'Width': 0.18016082048416138, 'Height': 0.47210270166397095, 'Left': 0.7550099492073059, 'Top': 0.01802222989499569}\n"
     ]
    }
   ],
   "source": [
    "import boto3\n",
    "import json\n",
    "import base64\n",
    "\n",
    "s3 = boto3.resource('s3')\n",
    "\n",
    "# Read image from s3\n",
    "image = {\n",
    "    'S3Object': {\n",
    "        'Bucket': 'aiml-lab-sagemaker',\n",
    "        'Name': 'politicians/politicians2.jpg'\n",
    "    }\n",
    "}\n",
    "image_object = s3.Object(image['S3Object']['Bucket'] , image['S3Object']['Name'])\n",
    "payload = image_object.get()['Body'].read()\n",
    "\n",
    "rekognition = boto3.client('rekognition')\n",
    "    \n",
    "# Call rekognition to get bbox\n",
    "ret = rekognition.detect_faces(\n",
    "    Image={\n",
    "        'Bytes': payload\n",
    "    },\n",
    "    Attributes=['DEFAULT'],\n",
    ")\n",
    "\n",
    "print(ret['FaceDetails'][0]['BoundingBox'])"
   ]
  },
  {
   "cell_type": "markdown",
   "metadata": {},
   "source": [
    "Crop the image at the bounding box and resize for input into model"
   ]
  },
  {
   "cell_type": "code",
   "execution_count": 73,
   "metadata": {},
   "outputs": [
    {
     "data": {
      "text/plain": [
       "(112, 112, 3)"
      ]
     },
     "execution_count": 73,
     "metadata": {},
     "output_type": "execute_result"
    },
    {
     "data": {
      "image/png": "[encoded data removed]",
      "text/plain": [
       "<Figure size 432x288 with 1 Axes>"
      ]
     },
     "metadata": {},
     "output_type": "display_data"
    }
   ],
   "source": [
    "import numpy as np\n",
    "import cv2\n",
    "from matplotlib import pyplot as plt\n",
    "\n",
    "%matplotlib inline\n",
    "\n",
    "def crop_image(payload, bbox, image_size=(112, 112)):\n",
    "    # Load image and convert to RGB space\n",
    "    img = cv2.imdecode(np.frombuffer(payload, np.uint8), cv2.IMREAD_COLOR) \n",
    "    img = cv2.cvtColor(img, cv2.COLOR_BGR2RGB)\n",
    "    # Crop relative to image size\n",
    "    if bbox != None:\n",
    "        height, width, _ = img.shape\n",
    "        x1 = int(bbox['Left'] * width)\n",
    "        y1 = int(bbox['Top'] * height)\n",
    "        x2 = int(bbox['Left'] * width + bbox['Width'] * width)\n",
    "        y2 = int(bbox['Top'] * height + bbox['Height']  * height)\n",
    "        img = img[y1:y2,x1:x2,:]\n",
    "    # Resize\n",
    "    return cv2.resize(img, (image_size[1], image_size[0]))    \n",
    "\n",
    "image = crop_image(payload, ret['FaceDetails'][0]['BoundingBox'])\n",
    "    \n",
    "# Show the last image with size\n",
    "plt.imshow(image)\n",
    "image.shape"
   ]
  },
  {
   "cell_type": "markdown",
   "metadata": {},
   "source": [
    "Transpose the image data into a numpy array the model expects"
   ]
  },
  {
   "cell_type": "code",
   "execution_count": 74,
   "metadata": {},
   "outputs": [
    {
     "data": {
      "text/plain": [
       "(1, 3, 112, 112)"
      ]
     },
     "execution_count": 74,
     "metadata": {},
     "output_type": "execute_result"
    }
   ],
   "source": [
    "model_input = np.rollaxis(image, axis=2, start=0)[np.newaxis, :]\n",
    "model_input.shape"
   ]
  },
  {
   "cell_type": "markdown",
   "metadata": {},
   "source": [
    "Send the payload to the endpoint, and output the face embedding response"
   ]
  },
  {
   "cell_type": "code",
   "execution_count": 75,
   "metadata": {},
   "outputs": [
    {
     "name": "stdout",
     "output_type": "stream",
     "text": [
      "[ 0.219501    0.19605044 -0.18065766 -0.0749507   0.00539136 -0.0474967\n",
      " -0.01725377 -0.03347566  0.08176377  0.06411457]\n",
      "CPU times: user 15.3 ms, sys: 0 ns, total: 15.3 ms\n",
      "Wall time: 128 ms\n"
     ]
    }
   ],
   "source": [
    "%%time\n",
    "\n",
    "def numpy_bytes_serializer(data):\n",
    "    import io\n",
    "    import numpy as np\n",
    "    \n",
    "    f = io.BytesIO()\n",
    "    np.save(f, data)\n",
    "    f.seek(0)\n",
    "    return f.read()\n",
    "\n",
    "# Set the content-type to numpy \n",
    "predictor.serializer = numpy_bytes_serializer\n",
    "predictor.accept = 'application/json'\n",
    "predictor.content_type = 'application/x-npy'\n",
    "response = predictor.predict(model_input)\n",
    "print(np.array(response)[:10])"
   ]
  },
  {
   "cell_type": "markdown",
   "metadata": {},
   "source": [
    "### Batch Inference\n",
    "\n",
    "Create a transform and from this model"
   ]
  },
  {
   "cell_type": "code",
   "execution_count": 50,
   "metadata": {},
   "outputs": [
    {
     "name": "stderr",
     "output_type": "stream",
     "text": [
      "INFO:sagemaker:Creating model with name: sagemaker-mxnet-2019-04-02-05-03-24-447\n",
      "WARNING:sagemaker:Using already existing model: sagemaker-mxnet-2019-04-02-05-03-24-447\n"
     ]
    }
   ],
   "source": [
    "transformer = sagemaker_model.transformer(instance_count=1, instance_type='ml.m4.xlarge')"
   ]
  },
  {
   "cell_type": "markdown",
   "metadata": {},
   "source": [
    "Save the model input as a numpy file in s3"
   ]
  },
  {
   "cell_type": "code",
   "execution_count": 90,
   "metadata": {},
   "outputs": [],
   "source": [
    "!mkdir -p transform"
   ]
  },
  {
   "cell_type": "code",
   "execution_count": 83,
   "metadata": {},
   "outputs": [
    {
     "name": "stdout",
     "output_type": "stream",
     "text": [
      "saving: transform/0.npy\n",
      "saving: transform/1.npy\n",
      "saving: transform/2.npy\n",
      "saving: transform/3.npy\n"
     ]
    }
   ],
   "source": [
    "# Save numpy bytes to \n",
    "for i, face in enumerate(ret['FaceDetails']):\n",
    "    image = crop_image(payload, face['BoundingBox'])\n",
    "    model_input = np.rollaxis(image, axis=2, start=0)[np.newaxis, :]\n",
    "    filename = 'transform/{}.npy'.format(i)\n",
    "    print('saving: {}'.format(filename))\n",
    "    with open(filename, 'wb') as output:\n",
    "        output.write(numpy_bytes_serializer(model_input))"
   ]
  },
  {
   "cell_type": "code",
   "execution_count": null,
   "metadata": {},
   "outputs": [],
   "source": [
    "# Save the numpy image to s3 for batch transform\n",
    "image_data = sagemaker_session.upload_data(path='transform', key_prefix='virtual-concierge/transform')"
   ]
  },
  {
   "cell_type": "markdown",
   "metadata": {},
   "source": [
    "Run the transform process on this file"
   ]
  },
  {
   "cell_type": "code",
   "execution_count": null,
   "metadata": {},
   "outputs": [
    {
     "name": "stderr",
     "output_type": "stream",
     "text": [
      "INFO:sagemaker:Creating transform job with name: sagemaker-mxnet-2019-04-02-05-03-24-447-2019-04-02-05-51-42-574\n"
     ]
    },
    {
     "name": "stdout",
     "output_type": "stream",
     "text": [
      ".............................."
     ]
    }
   ],
   "source": [
    "transformer.serializer = numpy_bytes_serializer\n",
    "transformer.accept = 'application/json'\n",
    "transformer.transform(image_data, content_type='application/x-npy', split_type='Line')\n",
    "transformer.wait()"
   ]
  },
  {
   "cell_type": "code",
   "execution_count": null,
   "metadata": {},
   "outputs": [],
   "source": [
    "# TODO: Load the file back from s3 to read the results"
   ]
  },
  {
   "cell_type": "markdown",
   "metadata": {},
   "source": [
    "### Compare to Local\n",
    "\n",
    "Extract the model locally and call `model_fn` from `predict.py` to load the model"
   ]
  },
  {
   "cell_type": "code",
   "execution_count": 36,
   "metadata": {},
   "outputs": [
    {
     "name": "stdout",
     "output_type": "stream",
     "text": [
      "tar: Removing leading `/' from member names\n",
      "/\n",
      "model-0000.params\n",
      "model-shapes.json\n",
      "model-symbol.json\n",
      "CPU times: user 85.5 ms, sys: 30.5 ms, total: 116 ms\n",
      "Wall time: 357 ms\n"
     ]
    }
   ],
   "source": [
    "%%time\n",
    "\n",
    "import os\n",
    "\n",
    "if not os.path.exists('model'):\n",
    "    !mkdir -p model\n",
    "    !tar xvzf model.tar.gz -C ./model\n",
    "    \n",
    "import numpy as np\n",
    "from predict import model_fn, transform_fn\n",
    "\n",
    "model = model_fn('model')"
   ]
  },
  {
   "cell_type": "markdown",
   "metadata": {},
   "source": [
    "Call `transform_fn` from `predict.py` to perform inference on test input"
   ]
  },
  {
   "cell_type": "code",
   "execution_count": 37,
   "metadata": {},
   "outputs": [
    {
     "name": "stdout",
     "output_type": "stream",
     "text": [
      "[-0.10454902 -0.04392235  0.07074911  0.04567999  0.02645712  0.04673402\n",
      " -0.15382035  0.07499488  0.09955145 -0.05470199]\n",
      "CPU times: user 50.3 ms, sys: 8.39 ms, total: 58.7 ms\n",
      "Wall time: 59.4 ms\n"
     ]
    }
   ],
   "source": [
    "%%time\n",
    "\n",
    "model_input = np.load('input.npy')\n",
    "data = numpy_bytes_serializer(model_input)\n",
    "embedding, content_type = transform_fn(model, data, 'application/x-npy', 'application/json')\n",
    "print(np.array(json.loads(embedding))[:10])"
   ]
  },
  {
   "cell_type": "markdown",
   "metadata": {},
   "source": [
    "## Clean up\n",
    "\n",
    "Tear down the sagemaker endpoint"
   ]
  },
  {
   "cell_type": "code",
   "execution_count": null,
   "metadata": {},
   "outputs": [],
   "source": [
    "sagemaker.Session().delete_endpoint(predictor.endpoint)\n",
    "sagemaker.Session().delete_model()"
   ]
  },
  {
   "cell_type": "code",
   "execution_count": 30,
   "metadata": {},
   "outputs": [],
   "source": [
    "import shutil\n",
    "\n",
    "os.remove('tmp/img.png')\n",
    "os.remove('input.npy')\n",
    "os.remove('model.tar.gz')\n",
    "shutil.rmtree('model')"
   ]
  }
 ],
 "metadata": {
  "kernelspec": {
   "display_name": "conda_mxnet_p36",
   "language": "python",
   "name": "conda_mxnet_p36"
  },
  "language_info": {
   "codemirror_mode": {
    "name": "ipython",
    "version": 3
   },
   "file_extension": ".py",
   "mimetype": "text/x-python",
   "name": "python",
   "nbconvert_exporter": "python",
   "pygments_lexer": "ipython3",
   "version": "3.6.5"
  }
 },
 "nbformat": 4,
 "nbformat_minor": 2
}
