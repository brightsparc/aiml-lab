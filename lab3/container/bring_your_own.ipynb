{
 "cells": [
  {
   "cell_type": "markdown",
   "metadata": {},
   "source": [
    "# Building your own algorithm container\n",
    "\n",
    "With Amazon SageMaker, you can package your own algorithms that can than be trained and deployed in the SageMaker environment. This notebook will guide you through an example that shows you how to build a Docker container for SageMaker and use it for training and inference.\n",
    "\n",
    "By packaging an algorithm in a container, you can bring almost any code to the Amazon SageMaker environment, regardless of programming language, environment, framework, or dependencies. \n"
   ]
  },
  {
   "cell_type": "markdown",
   "metadata": {},
   "source": [
    "# Part 1: Packaging and Uploading your Algorithm for use with Amazon SageMaker\n",
    "\n",
    "### An overview of Docker\n",
    "\n",
    "If you're familiar with Docker already, you can skip ahead to the next section.\n",
    "\n",
    "For many data scientists, Docker containers are a new concept, but they are not difficult, as you'll see here. \n",
    "\n",
    "Docker provides a simple way to package arbitrary code into an _image_ that is totally self-contained. Once you have an image, you can use Docker to run a _container_ based on that image. Running a container is just like running a program on the machine except that the container creates a fully self-contained environment for the program to run. Containers are isolated from each other and from the host environment, so the way you set up your program is the way it runs, no matter where you run it.\n",
    "\n",
    "Docker is more powerful than environment managers like conda or virtualenv because (a) it is completely language independent and (b) it comprises your whole operating environment, including startup commands, environment variable, etc.\n",
    "\n",
    "In some ways, a Docker container is like a virtual machine, but it is much lighter weight. For example, a program running in a container can start in less than a second and many containers can run on the same physical machine or virtual machine instance.\n",
    "\n",
    "Docker uses a simple file called a `Dockerfile` to specify how the image is assembled. We'll see an example of that below. You can build your Docker images based on Docker images built by yourself or others, which can simplify things quite a bit.\n",
    "\n",
    "Docker has become very popular in the programming and devops communities for its flexibility and well-defined specification of the code to be run. It is the underpinning of many services built in the past few years, such as [Amazon ECS].\n",
    "\n",
    "Amazon SageMaker uses Docker to allow users to train and deploy arbitrary algorithms.\n",
    "\n",
    "In Amazon SageMaker, Docker containers are invoked in a certain way for training and a slightly different way for hosting. The following sections outline how to build containers for the SageMaker environment.\n",
    "\n",
    "Some helpful links:\n",
    "\n",
    "* [Docker home page](http://www.docker.com)\n",
    "* [Getting started with Docker](https://docs.docker.com/get-started/)\n",
    "* [Dockerfile reference](https://docs.docker.com/engine/reference/builder/)\n",
    "* [`docker run` reference](https://docs.docker.com/engine/reference/run/)\n",
    "\n",
    "[Amazon ECS]: https://aws.amazon.com/ecs/\n",
    "\n",
    "### How Amazon SageMaker runs your Docker container\n",
    "\n",
    "Because you can run the same image in training or hosting, Amazon SageMaker runs your container with the argument `train` or `serve`. How your container processes this argument depends on the container:\n",
    "\n",
    "* If you are building separate containers for hosting (as per this example), you can define a program as an `ENTRYPOINT` in the Dockerfile and ignore (or verify) the first argument passed in. \n",
    "\n",
    "#### Running your container during hosting\n",
    "\n",
    "Hosting has a very different model than training because hosting is reponding to inference requests that come in via HTTP. In this example, we use our recommended Python serving stack to provide robust and scalable serving of inference requests:\n",
    "\n",
    "![Request serving stack](stack.png)\n",
    "\n",
    "This stack is implemented in the sample code here and you can mostly just leave it alone. \n",
    "\n",
    "Amazon SageMaker uses two URLs in the container:\n",
    "\n",
    "* `/ping` will receive `GET` requests from the infrastructure. Your program returns 200 if the container is up and accepting requests.\n",
    "* `/invocations` is the endpoint that receives client inference `POST` requests. The format of the request and the response is up to the algorithm. If the client supplied `ContentType` and `Accept` headers, these will be passed in as well. \n",
    "\n",
    "The container will have the model files in the same place they were written during training:\n",
    "\n",
    "    /opt/ml\n",
    "    └── model\n",
    "        └── <model files>\n",
    "\n"
   ]
  },
  {
   "cell_type": "markdown",
   "metadata": {},
   "source": [
    "### The parts of the sample container\n",
    "\n",
    "In this `container` directory are all the components you need to package the sample algorithm for Amazon SageMager:\n",
    "\n",
    "    .\n",
    "    ├── Dockerfile\n",
    "    ├── build_and_push.sh\n",
    "    └── app\n",
    "        ├── nginx.conf\n",
    "        ├── predictor.py\n",
    "        ├── serve\n",
    "        └── wsgi.py\n",
    "\n",
    "Let's discuss each of these in turn:\n",
    "\n",
    "* __`Dockerfile`__ describes how to build your Docker container image. More details below.\n",
    "* __`build_and_push.sh`__ is a script that uses the Dockerfile to build your container images and then pushes it to ECR. We'll invoke the commands directly later in this notebook, but you can just copy and run the script for your own algorithms.\n",
    "* __`app`__ is the directory which contains the files that will be installed in the container.\n",
    "* __`local_test`__ is a directory that shows how to test your new container on any computer that can run Docker, including an Amazon SageMaker notebook instance. Using this method, you can quickly iterate using small datasets to eliminate any structural bugs before you use the container with Amazon SageMaker. We'll walk through local testing later in this notebook.\n",
    "\n",
    "In this simple application, we only install five files in the container. You may only need that many or, if you have many supporting routines, you may wish to install more. These five show the standard structure of our Python containers, although you are free to choose a different toolset and therefore could have a different layout. If you're writing in a different programming language, you'll certainly have a different layout depending on the frameworks and tools you choose.\n",
    "\n",
    "The files that we'll put in the container are:\n",
    "\n",
    "* __`nginx.conf`__ is the configuration file for the nginx front-end. Generally, you should be able to take this file as-is.\n",
    "* __`predictor.py`__ is the program that actually implements the Flask web server and the decision tree predictions for this app. You'll want to customize the actual prediction parts to your application. Since this algorithm is simple, we do all the processing here in this file, but you may choose to have separate files for implementing your custom logic.\n",
    "* __`serve`__ is the program started when the container is started for hosting. It simply launches the gunicorn server which runs multiple instances of the Flask app defined in `predictor.py`. You should be able to take this file as-is.\n",
    "* __`wsgi.py`__ is a small wrapper used to invoke the Flask app. You should be able to take this file as-is."
   ]
  },
  {
   "cell_type": "markdown",
   "metadata": {},
   "source": [
    "### The Dockerfile\n",
    "\n",
    "The Dockerfile describes the image that we want to build. You can think of it as describing the complete operating system installation of the system that you want to run. A Docker container running is quite a bit lighter than a full operating system, however, because it takes advantage of Linux on the host machine for the basic operations. \n",
    "\n",
    "For the Python science stack, we will start from a standard Ubuntu installation and run the normal tools to install the things needed by scikit-learn. Finally, we add the code that implements our specific algorithm to the container and set up the right environment to run under.\n",
    "\n",
    "Along the way, we clean up extra space. This makes the container smaller and faster to start.\n",
    "\n",
    "Let's look at the Dockerfile for the example:"
   ]
  },
  {
   "cell_type": "code",
   "execution_count": 3,
   "metadata": {},
   "outputs": [
    {
     "name": "stdout",
     "output_type": "stream",
     "text": [
      "# Build an image that can do training and inference in SageMaker\r\n",
      "# This is a Python 2 image that uses the nginx, gunicorn, flask stack\r\n",
      "# for serving inferences in a stable way.\r\n",
      "\r\n",
      "FROM ubuntu:16.04\r\n",
      "\r\n",
      "LABEL maintainer=\"Julian Bright <brightsparc@gmail.com>\"\r\n",
      "\r\n",
      "RUN apt-get update && \\\r\n",
      "    apt-get -y install --no-install-recommends \\\r\n",
      "    libopencv-dev \\\r\n",
      "    python3-dev \\\r\n",
      "    build-essential \\\r\n",
      "    ca-certificates \\\r\n",
      "    wget \\\r\n",
      "    curl \\\r\n",
      "    nginx \\\r\n",
      "    && rm -rf /var/lib/apt/lists/*\r\n",
      "\r\n",
      "# Symlink /usr/bin/python to the python version we're building for.\r\n",
      "RUN rm /usr/bin/python && ln -s \"/usr/bin/python3\" /usr/bin/python\r\n",
      "\r\n",
      "# Here we get all python packages.\r\n",
      "RUN wget https://bootstrap.pypa.io/get-pip.py && python get-pip.py && \\\r\n",
      "    pip install mxnet opencv-python flask gevent gunicorn && \\\r\n",
      "        rm -rf /root/.cache\r\n",
      "\r\n",
      "# Set some environment variables. PYTHONUNBUFFERED keeps Python from buffering our standard\r\n",
      "# output stream, which means that logs can be delivered to the user quickly. PYTHONDONTWRITEBYTECODE\r\n",
      "# keeps Python from writing the .pyc files which are unnecessary in this case. We also update\r\n",
      "# PATH so that the train and serve programs are found when the container is invoked.\r\n",
      "\r\n",
      "ENV PYTHONUNBUFFERED=TRUE\r\n",
      "ENV PYTHONDONTWRITEBYTECODE=TRUE\r\n",
      "ENV PATH=\"/opt/program:${PATH}\"\r\n",
      "\r\n",
      "# Set up the program in the image\r\n",
      "COPY app /opt/program\r\n",
      "WORKDIR /opt/program\r\n",
      "\r\n",
      "# Default the entrypoint to serve\r\n",
      "ENTRYPOINT [\"serve\"]"
     ]
    }
   ],
   "source": [
    "!cat Dockerfile"
   ]
  },
  {
   "cell_type": "markdown",
   "metadata": {},
   "source": [
    "### Building and registering the container\n",
    "\n",
    "The following shell code shows how to build the container image using `docker build` and push the container image to ECR using `docker push`. This code is also available as the shell script `container/build-and-push.sh`, which you can run as `build-and-push.sh decision_trees_sample` to build the image `decision_trees_sample`. \n",
    "\n",
    "This code looks for an ECR repository in the account you're using and the current default region (if you're using a SageMaker notebook instance, this will be the region where the notebook instance was created). If the repository doesn't exist, the script will create it."
   ]
  },
  {
   "cell_type": "code",
   "execution_count": 2,
   "metadata": {},
   "outputs": [
    {
     "name": "stdout",
     "output_type": "stream",
     "text": [
      "from __future__ import print_function\r\n",
      "\r\n",
      "import os\r\n",
      "import base64\r\n",
      "import json\r\n",
      "import time\r\n",
      "import numpy as np\r\n",
      "import mxnet as mx\r\n",
      "import cv2\r\n",
      "\r\n",
      "from flask import Flask, request, Response\r\n",
      "\r\n",
      "# Include the model name and epoch\r\n",
      "prefix = os.getenv('MODEL_PATH', '/opt/ml/')\r\n",
      "model_str = os.path.join(prefix, 'mobilenet1,0')\r\n",
      "image_size = (112,112)\r\n",
      "\r\n",
      "# A singleton for holding the model. This simply loads the model and holds it.\r\n",
      "# It has a predict function that does a prediction based on the model and the input data.\r\n",
      "\r\n",
      "class ScoringService(object):\r\n",
      "    model = None # Where we keep the model when it's loaded\r\n",
      "\r\n",
      "    @classmethod\r\n",
      "    def get_model(self, ctx=mx.cpu(), layer='fc1'):\r\n",
      "        \"\"\"Get the model object for this instance, loading it if it's not already loaded.\"\"\"\r\n",
      "        if self.model == None:\r\n",
      "            model_parts = model_str.split(',')\r\n",
      "            assert len(model_parts)==2\r\n",
      "            prefix = model_parts[0]\r\n",
      "            epoch = int(model_parts[1])\r\n",
      "            print('loading model', prefix, epoch)\r\n",
      "            sym, arg_params, aux_params = mx.model.load_checkpoint(prefix, epoch)\r\n",
      "            all_layers = sym.get_internals()\r\n",
      "            sym = all_layers[layer+'_output']\r\n",
      "            model = mx.mod.Module(symbol=sym, context=ctx, label_names = None)\r\n",
      "            model.bind(data_shapes=[('data', (1, 3, image_size[0], image_size[1]))])\r\n",
      "            model.set_params(arg_params, aux_params)\r\n",
      "            self.model = model\r\n",
      "        return self.model\r\n",
      "    \r\n",
      "    @classmethod\r\n",
      "    def predict(self, img):\r\n",
      "        \"\"\"For the input, do the predictions and return them.\r\n",
      "        Args:\r\n",
      "            image: The cv2 image matrix\"\"\"\r\n",
      "        \r\n",
      "        def get_input(img, image_size, bbox=None, rotate=0, margin=0):\r\n",
      "            if bbox is None:\r\n",
      "                det = np.zeros(4, dtype=np.int32)\r\n",
      "                det[0] = int(img.shape[1]*0.0625)\r\n",
      "                det[1] = int(img.shape[0]*0.0625)\r\n",
      "                det[2] = img.shape[1] - det[0]\r\n",
      "                det[3] = img.shape[0] - det[1]\r\n",
      "            else:\r\n",
      "                det = bbox\r\n",
      "            # Crop\r\n",
      "            bb = np.zeros(4, dtype=np.int32)\r\n",
      "            bb[0] = np.maximum(det[0]-margin/2, 0)\r\n",
      "            bb[1] = np.maximum(det[1]-margin/2, 0)\r\n",
      "            bb[2] = np.minimum(det[2]+margin/2, img.shape[1])\r\n",
      "            bb[3] = np.minimum(det[3]+margin/2, img.shape[0])\r\n",
      "            img = img[bb[1]:bb[3],bb[0]:bb[2],:]\r\n",
      "            # Rotate if required\r\n",
      "            if 0 < rotate and rotate < 360:\r\n",
      "                rows,cols,_ = img.shape\r\n",
      "                M = cv2.getRotationMatrix2D((cols/2,rows/2),360-rotate,1)\r\n",
      "                img = cv2.warpAffine(img,M,(cols,rows))\r\n",
      "            # Resize and transform\r\n",
      "            img = cv2.resize(img, (image_size[1], image_size[0]))\r\n",
      "            img = cv2.cvtColor(img, cv2.COLOR_BGR2RGB)\r\n",
      "            aligned = np.transpose(img, (2,0,1))\r\n",
      "            return aligned\r\n",
      "\r\n",
      "        def l2_normalize(X):\r\n",
      "            norms = np.sqrt((X * X).sum(axis=1))\r\n",
      "            X /= norms[:, np.newaxis]\r\n",
      "            return X\r\n",
      "\r\n",
      "        def get_feature(model, aligned):\r\n",
      "            input_blob = np.expand_dims(aligned, axis=0)\r\n",
      "            data = mx.nd.array(input_blob)\r\n",
      "            db = mx.io.DataBatch(data=(data,))\r\n",
      "            model.forward(db, is_train=False)\r\n",
      "            embedding = model.get_outputs()[0].asnumpy()\r\n",
      "            embedding = l2_normalize(embedding).flatten()\r\n",
      "            return embedding    \r\n",
      "        \r\n",
      "        model = self.get_model()\r\n",
      "        return get_feature(model, get_input(img, image_size))\r\n",
      "\r\n",
      "# Initialize the Flask application\r\n",
      "app = Flask(__name__)\r\n",
      "\r\n",
      "@app.route('/ping', methods=['GET'])\r\n",
      "def ping():\r\n",
      "    \"\"\"Determine if the container is working and healthy. In this sample container, we declare\r\n",
      "    it healthy if we can load the model successfully.\"\"\"\r\n",
      "    health = ScoringService.get_model() is not None  # You can insert a health check here\r\n",
      "\r\n",
      "    status = 200 if health else 404\r\n",
      "    return Response(response='{ \"status\": \"ok\" }', status=status, mimetype='application/json')\r\n",
      "\r\n",
      "# route http posts to this method\r\n",
      "@app.route('/invocations', methods=['POST'])\r\n",
      "def invocations():\r\n",
      "    \"\"\"Do an inference on a single batch of data. In this sample server, we take data as CSV, convert\r\n",
      "    it to a pandas data frame for internal use and then convert the predictions back to CSV (which really\r\n",
      "    just means one prediction per line, since there's a single column.\r\n",
      "    \"\"\"\r\n",
      "\r\n",
      "    print('invocations', request.content_type)\r\n",
      "    bbox = None\r\n",
      "    if request.content_type == 'application/json':\r\n",
      "        # convert json base64 encoded data\r\n",
      "        body = json.loads(request.data)\r\n",
      "        if 'data' not in body:\r\n",
      "            raise BadRequestError('Missing image data')\r\n",
      "        image = base64.b64decode(body['data']) # byte array\r\n",
      "        bbox = body.get('bbox')\r\n",
      "    elif request.content_type == 'application/image-x':\r\n",
      "        # convert string of image data to uint8\r\n",
      "        image = request.data\r\n",
      "    else:\r\n",
      "        return Response(response='Require image data', status=415, mimetype='text/plain')\r\n",
      "\r\n",
      "    # Do the prediction    \r\n",
      "    nparr = np.frombuffer(image, np.uint8)\r\n",
      "    img = cv2.imdecode(nparr, cv2.IMREAD_COLOR)\r\n",
      "    start = time.time()\r\n",
      "    predictions = ScoringService.predict(img, bbox=bbox).tolist()\r\n",
      "    duration = time.time()-start\r\n",
      "    \r\n",
      "    response = json.dumps({ 'predictions': predictions, 'duration': duration })\r\n",
      "    return Response(response=response, status=200, mimetype=\"application/json\")\r\n",
      "\r\n",
      "if __name__ == \"__main__\":\r\n",
      "    # start flask app\r\n",
      "    app.run(host=\"0.0.0.0\", port=5000)"
     ]
    }
   ],
   "source": [
    "!cat app/predictor.py"
   ]
  },
  {
   "cell_type": "code",
   "execution_count": null,
   "metadata": {},
   "outputs": [],
   "source": [
    "%%sh\n",
    "\n",
    "# The name of our algorithm\n",
    "algorithm_name=sagemaker-virtual-concierge\n",
    "\n",
    "chmod +x app/serve\n",
    "\n",
    "account=$(aws sts get-caller-identity --query Account --output text)\n",
    "\n",
    "# Get the region defined in the current configuration (default to us-west-2 if none defined)\n",
    "region=$(aws configure get region)\n",
    "\n",
    "fullname=\"${account}.dkr.ecr.${region}.amazonaws.com/${algorithm_name}:latest\"\n",
    "\n",
    "echo $fullname\n",
    "\n",
    "# If the repository doesn't exist in ECR, create it.\n",
    "aws ecr describe-repositories --repository-names \"${algorithm_name}\" # > /dev/null 2>&1\n",
    "\n",
    "if [ $? -ne 0 ]\n",
    "then\n",
    "    aws ecr create-repository --repository-name \"${algorithm_name}\" > /dev/null\n",
    "fi\n",
    "\n",
    "# Get the login command from ECR and execute it directly\n",
    "$(aws ecr get-login --region ${region} --no-include-email)\n",
    "\n",
    "# Build the docker image locally with the image name and then push it to ECR\n",
    "# with the full name.\n",
    "\n",
    "docker build  -t ${algorithm_name} .\n",
    "docker tag ${algorithm_name} ${fullname}\n",
    "docker push ${fullname}"
   ]
  },
  {
   "cell_type": "markdown",
   "metadata": {},
   "source": [
    "# Part 2: Using your Algorithm in Amazon SageMaker\n",
    "\n",
    "Once you have your container packaged, you can use it to train models and use the model for hosting or batch transforms. Let's do that with the algorithm we made above.\n",
    "\n",
    "## Set up the environment\n",
    "\n",
    "Here we specify a bucket to use and the role that will be used for working with SageMaker.\n",
    "\n",
    "[Deploy the model](https://docs.aws.amazon.com/sagemaker/latest/dg/ex1-deploy-model.html)"
   ]
  },
  {
   "cell_type": "code",
   "execution_count": null,
   "metadata": {},
   "outputs": [],
   "source": [
    "# Define IAM role\n",
    "import boto3\n",
    "import re\n",
    "\n",
    "import os\n",
    "import numpy as np\n",
    "import pandas as pd\n",
    "from sagemaker import get_execution_role\n",
    "\n",
    "role = get_execution_role()"
   ]
  },
  {
   "cell_type": "markdown",
   "metadata": {},
   "source": [
    "## Create the session\n",
    "\n",
    "The session remembers our connection parameters to SageMaker. We'll use it to perform all of our SageMaker operations."
   ]
  },
  {
   "cell_type": "code",
   "execution_count": null,
   "metadata": {},
   "outputs": [],
   "source": [
    "import sagemaker as sage\n",
    "from time import gmtime, strftime\n",
    "\n",
    "sess = sage.Session()"
   ]
  },
  {
   "cell_type": "markdown",
   "metadata": {},
   "source": [
    "## Create an estimator and fit the model\n",
    "\n",
    "In order to use SageMaker to fit our algorithm, we'll create an `Estimator` that defines how to use the container to train. This includes the configuration we need to invoke SageMaker training:\n",
    "\n",
    "* The __container name__. This is constructed as in the shell commands above.\n",
    "* The __role__. As defined above.\n",
    "* The __instance count__ which is the number of machines to use for training.\n",
    "* The __instance type__ which is the type of machine to use for training.\n",
    "* The __output path__ determines where the model artifact will be written.\n",
    "* The __session__ is the SageMaker session object that we defined above.\n",
    "\n",
    "Then we use fit() on the estimator to train against the data that we uploaded above."
   ]
  },
  {
   "cell_type": "code",
   "execution_count": null,
   "metadata": {},
   "outputs": [],
   "source": [
    "account = sess.boto_session.client('sts').get_caller_identity()['Account']\n",
    "region = sess.boto_session.region_name\n",
    "image = '{}.dkr.ecr.{}.amazonaws.com/sagemaker-virtual-concierge:latest'.format(account, region)\n",
    "\n",
    "# Create an estimate, but not kit off train and just run deploy?\n",
    "app = sage.estimator.Estimator(image,\n",
    "                       role, 1, 'ml.c4.large',\n",
    "                       output_path=\"s3://{}/output\".format(sess.default_bucket()),\n",
    "                       sagemaker_session=sess)"
   ]
  },
  {
   "cell_type": "markdown",
   "metadata": {},
   "source": [
    "## Hosting your model\n",
    "You can use a trained model to get real time predictions using HTTP endpoint. Follow these steps to walk you through the process."
   ]
  },
  {
   "cell_type": "markdown",
   "metadata": {},
   "source": [
    "### Deploy the model\n",
    "\n",
    "Deploying the model to SageMaker hosting just requires a `deploy` call on the fitted model. This call takes an instance count, instance type, and optionally serializer and deserializer functions. These are used when the resulting predictor is created on the endpoint."
   ]
  },
  {
   "cell_type": "code",
   "execution_count": null,
   "metadata": {},
   "outputs": [],
   "source": [
    "from sagemaker.predictor import csv_serializer\n",
    "predictor = app.deploy(1, 'ml.m4.xlarge', serializer=csv_serializer)"
   ]
  },
  {
   "cell_type": "markdown",
   "metadata": {},
   "source": [
    "### Choose some data and use it for a prediction\n",
    "\n",
    "In order to do some predictions, we'll extract some of the data we used for training and do predictions against it. This is, of course, bad statistical practice, but a good way to see how the mechanism works."
   ]
  },
  {
   "cell_type": "code",
   "execution_count": null,
   "metadata": {},
   "outputs": [],
   "source": [
    "shape=pd.read_csv(\"data/iris.csv\", header=None)\n",
    "\n",
    "import itertools\n",
    "\n",
    "a = [50*i for i in range(3)]\n",
    "b = [40+i for i in range(10)]\n",
    "indices = [i+j for i,j in itertools.product(a,b)]\n",
    "\n",
    "test_data=shape.iloc[indices[:-1]]"
   ]
  },
  {
   "cell_type": "markdown",
   "metadata": {},
   "source": [
    "Prediction is as easy as calling predict with the predictor we got back from deploy and the data we want to do predictions with. The serializers take care of doing the data conversions for us."
   ]
  },
  {
   "cell_type": "code",
   "execution_count": null,
   "metadata": {},
   "outputs": [],
   "source": [
    "print(predictor.predict(test_data.values).decode('utf-8'))"
   ]
  },
  {
   "cell_type": "markdown",
   "metadata": {},
   "source": [
    "### Optional cleanup\n",
    "When you're done with the endpoint, you'll want to clean it up."
   ]
  },
  {
   "cell_type": "code",
   "execution_count": null,
   "metadata": {},
   "outputs": [],
   "source": [
    "sess.delete_endpoint(predictor.endpoint)"
   ]
  },
  {
   "cell_type": "markdown",
   "metadata": {},
   "source": [
    "## Run Batch Transform Job\n",
    "You can use a trained model to get inference on large data sets by using [Amazon SageMaker Batch Transform](https://docs.aws.amazon.com/sagemaker/latest/dg/how-it-works-batch.html). A batch transform job takes your input data S3 location and outputs the predictions to the specified S3 output folder. Similar to hosting, you can extract inferences for training data to test batch transform."
   ]
  },
  {
   "cell_type": "markdown",
   "metadata": {},
   "source": [
    "### Create a Transform Job\n",
    "We'll create an `Transformer` that defines how to use the container to get inference results on a data set. This includes the configuration we need to invoke SageMaker batch transform:\n",
    "\n",
    "* The __instance count__ which is the number of machines to use to extract inferences\n",
    "* The __instance type__ which is the type of machine to use to extract inferences\n",
    "* The __output path__ determines where the inference results will be written"
   ]
  },
  {
   "cell_type": "code",
   "execution_count": null,
   "metadata": {},
   "outputs": [],
   "source": [
    "transform_output_folder = \"batch-transform-output\"\n",
    "output_path=\"s3://{}/{}\".format(sess.default_bucket(), transform_output_folder)\n",
    "\n",
    "transformer = tree.transformer(instance_count=1,\n",
    "                               instance_type='ml.m4.xlarge',\n",
    "                               output_path=output_path)"
   ]
  },
  {
   "cell_type": "markdown",
   "metadata": {},
   "source": [
    "We use tranform() on the transfomer to get inference results against the data that we uploaded. You can use these options when invoking the transformer. \n",
    "\n",
    "* The __data_location__ which is the location of input data\n",
    "* The __content_type__ which is the content type set when making HTTP request to container to get prediction\n",
    "* The __split_type__ which is the delimiter used for splitting input data "
   ]
  },
  {
   "cell_type": "code",
   "execution_count": null,
   "metadata": {},
   "outputs": [],
   "source": [
    "transformer.transform(data_location, content_type='text/csv', split_type='Line')\n",
    "transformer.wait()"
   ]
  },
  {
   "cell_type": "markdown",
   "metadata": {},
   "source": [
    "For more information on the configuration options, see [CreateTransformJob API](https://docs.aws.amazon.com/sagemaker/latest/dg/API_CreateTransformJob.html)"
   ]
  },
  {
   "cell_type": "markdown",
   "metadata": {},
   "source": [
    "### View Output\n",
    "Lets read results of above transform job from s3 files and print output"
   ]
  },
  {
   "cell_type": "code",
   "execution_count": null,
   "metadata": {},
   "outputs": [],
   "source": [
    "s3_client = sess.boto_session.client('s3')\n",
    "s3_client.download_file(sess.default_bucket(), \"{}/iris.csv.out\".format(transform_output_folder), '/tmp/iris.csv.out')\n",
    "with open('/tmp/iris.csv.out') as f:\n",
    "    results = f.readlines()   \n",
    "print(\"Transform results: \\n{}\".format(''.join(results)))"
   ]
  }
 ],
 "metadata": {
  "kernelspec": {
   "display_name": "Python 3",
   "language": "python",
   "name": "python3"
  },
  "language_info": {
   "codemirror_mode": {
    "name": "ipython",
    "version": 3
   },
   "file_extension": ".py",
   "mimetype": "text/x-python",
   "name": "python",
   "nbconvert_exporter": "python",
   "pygments_lexer": "ipython3",
   "version": "3.7.0"
  }
 },
 "nbformat": 4,
 "nbformat_minor": 2
}
